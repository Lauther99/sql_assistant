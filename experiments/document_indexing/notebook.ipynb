{
 "cells": [
  {
   "cell_type": "code",
   "execution_count": 1,
   "metadata": {},
   "outputs": [
    {
     "name": "stdout",
     "output_type": "stream",
     "text": [
      "Iniciando modelos\n"
     ]
    }
   ],
   "source": [
    "import sys\n",
    "\n",
    "sys.path.append(\"C:\\\\Users\\\\lauth\\\\OneDrive\\\\Desktop\\\\sql_assistant_v3\")\n",
    "from experiments.document_indexing.indexing import ExperimentsIndexer\n",
    "tr_assistant = ExperimentsIndexer()"
   ]
  },
  {
   "cell_type": "code",
   "execution_count": 6,
   "metadata": {},
   "outputs": [
    {
     "name": "stdout",
     "output_type": "stream",
     "text": [
      "experiments_openai_collection: 108 vectores\n",
      "experiments_llama_collection: 108 vectores\n"
     ]
    }
   ],
   "source": [
    "# tr_assistant.train_all_collections()\n",
    "\n",
    "tr_assistant.counting_vectors()"
   ]
  },
  {
   "cell_type": "code",
   "execution_count": null,
   "metadata": {},
   "outputs": [],
   "source": [
    "tr_assistant.delete_specific_collection()\n"
   ]
  },
  {
   "cell_type": "code",
   "execution_count": 5,
   "metadata": {},
   "outputs": [
    {
     "name": "stdout",
     "output_type": "stream",
     "text": [
      "Selecciona una colección:\n",
      "1. experiments_openai_collection\n",
      "2. experiments_llama_collection\n",
      "Colección llama_experiments entrenada!\n"
     ]
    }
   ],
   "source": [
    "tr_assistant.train_specific_collection()\n"
   ]
  }
 ],
 "metadata": {
  "kernelspec": {
   "display_name": "venv",
   "language": "python",
   "name": "python3"
  },
  "language_info": {
   "codemirror_mode": {
    "name": "ipython",
    "version": 3
   },
   "file_extension": ".py",
   "mimetype": "text/x-python",
   "name": "python",
   "nbconvert_exporter": "python",
   "pygments_lexer": "ipython3",
   "version": "3.11.5"
  }
 },
 "nbformat": 4,
 "nbformat_minor": 2
}
