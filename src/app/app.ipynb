{
 "cells": [
  {
   "cell_type": "code",
   "execution_count": 1,
   "metadata": {},
   "outputs": [],
   "source": [
    "import sys\n",
    "sys.path.append(\"C:\\\\Users\\\\lauth\\\\OneDrive\\\\Desktop\\\\sql_assistant_v3\")\n",
    "from src.components.models.llms.llms import Langchain_OpenAI_LLM\n",
    "\n",
    "llm = Langchain_OpenAI_LLM()\n",
    "llm.init_model()"
   ]
  },
  {
   "cell_type": "code",
   "execution_count": 2,
   "metadata": {},
   "outputs": [],
   "source": [
    "# Generando el request \n",
    "\n",
    "from src.app.pipeline_processes.query_pre_process.generation import generate_request\n",
    "from src.components.memory.memory import Memory\n",
    "\n",
    "memory = Memory()\n",
    "user_input = \"Hola como te llamas?\"\n",
    "actual_answer=\"Hello, my name M-Assistant. How can I help you?\"\n",
    "user_input = \"I want information from EMED-2012-LR-P12\"\n",
    "\n",
    "memory.add_user_message(user_input)\n",
    "memory.add_ai_message(actual_answer)\n",
    "\n",
    "res = generate_request(llm, memory)\n",
    "\n",
    "res\n"
   ]
  },
  {
   "cell_type": "code",
   "execution_count": 3,
   "metadata": {},
   "outputs": [],
   "source": [
    "# Clasificando el request\n",
    "\n",
    "from src.app.pipeline_processes.query_pre_process.generation import generate_request_type\n",
    "\n",
    "request = \"The human is requesting information from the EMED-2012-LR-P12 measurement system.\"\n",
    "request_type = generate_request_type(llm, request)\n",
    "\n",
    "request_type\n"
   ]
  },
  {
   "cell_type": "code",
   "execution_count": 9,
   "metadata": {},
   "outputs": [],
   "source": [
    "# Cuando el request es SIMPLE\n",
    "\n",
    "from src.app.pipeline_processes.query_pre_process.generation import generate_greeting_response_call\n",
    "from src.components.memory.memory import Memory\n",
    "\n",
    "memory = Memory()\n",
    "user_input = \"Hola me llamo lauther\"\n",
    "\n",
    "memory.add_user_message(user_input)\n",
    "res = generate_greeting_response_call(llm, memory)\n"
   ]
  },
  {
   "cell_type": "code",
   "execution_count": null,
   "metadata": {},
   "outputs": [],
   "source": [
    "# Cuando el request es COMPLEJO ----- Parte 1 (pre-process): Buscando tablas y columnas (semantic info)\n",
    "\n",
    "from src.app.pipeline_processes.sql_pre_process.generation import generate_semantic_info\n",
    "from src.components.models.embeddings.embeddings import Langchain_OpenAI_Embeddings\n",
    "\n",
    "embeddings=Langchain_OpenAI_Embeddings()\n",
    "embeddings.init_model()\n",
    "\n",
    "user_request = \"The human is asking for a list of measurement systems similar to EMED\"\n",
    "\n",
    "semantic_info = generate_semantic_info(llm, embeddings, user_request)\n",
    "print(semantic_info.keys())"
   ]
  },
  {
   "cell_type": "code",
   "execution_count": 10,
   "metadata": {},
   "outputs": [],
   "source": [
    "# Cuando el request es COMPLEJO ----- Parte 2 : Generando el SQL\n",
    "\n",
    "from src.app.pipeline_processes.sql_generation_process.generation import generate_sql\n",
    "\n",
    "user_request = \"The human is asking for a list of measurement systems similar to EMED\"\n",
    "sql_code = generate_sql(llm, user_request, semantic_info)"
   ]
  },
  {
   "cell_type": "code",
   "execution_count": 2,
   "metadata": {},
   "outputs": [],
   "source": [
    "sql_code_completo = \"SELECT Nombre AS 'Measurement System Name', Tag AS 'Measurement System Tag' FROM dbo_v2.med_sistema_medicion WHERE Tag LIKE 'EMED%'\"\n",
    "sql_code_incompleto = \"SELECT Nombre AS Measurement_System_Name, Tag AS Measurement_System_Tag FROM dbo_v2.med_sistema_medicion WHERE Tag = <Specific Tag>;\"\n",
    "\n",
    "semantic_info = {\n",
    "    \"med_sistema_medicion\": [\n",
    "        (\n",
    "            \"Id\",\n",
    "            \"INT\",\n",
    "            \"Unique identifier for the measurement system\",\n",
    "            1,\n",
    "            (\"fcs_computador_medidor\", \"med_sistema_medicion\"),\n",
    "        ),\n",
    "        (\n",
    "            \"Id\",\n",
    "            \"INT\",\n",
    "            \"Unique identifier for the measurement system\",\n",
    "            1,\n",
    "            \"med_sistema_medicion\",\n",
    "        ),\n",
    "        (\n",
    "            \"Nombre\",\n",
    "            \"VARCHAR(100)\",\n",
    "            \"Name of the measurement system\",\n",
    "            2,\n",
    "            \"med_sistema_medicion\",\n",
    "        ),\n",
    "        (\n",
    "            \"Tag\",\n",
    "            \"VARCHAR(100)\",\n",
    "            \"Tag associated to the measurement system\",\n",
    "            3,\n",
    "            \"med_sistema_medicion\",\n",
    "        ),\n",
    "        (\n",
    "            \"Estado\",\n",
    "            \"VARCHAR(100)\",\n",
    "            \"Status of the measurement system, active ('ACT') or inactive ('INA')\",\n",
    "            4,\n",
    "            \"med_sistema_medicion\",\n",
    "        ),\n",
    "        (\n",
    "            \"Uso\",\n",
    "            \"VARCHAR(100)\",\n",
    "            \"Usage description of the measurement system could be: CONTINUA / WELL_TESTING\",\n",
    "            6,\n",
    "            \"med_sistema_medicion\",\n",
    "        ),\n",
    "        (\n",
    "            \"IdPlataforma_fk\",\n",
    "            \"INT\",\n",
    "            \"Foreign key linking measurement systems with platforms\",\n",
    "            999,\n",
    "            (\"med_sistema_medicion\", \"pla_plataforma\"),\n",
    "        ),\n",
    "        (\n",
    "            \"IdAplicabilidad_fk\",\n",
    "            \"INT\",\n",
    "            \"Foreign key linking measurement system with their measure type\",\n",
    "            999,\n",
    "            (\"med_tipo_medicion\", \"med_sistema_medicion\"),\n",
    "        ),\n",
    "    ],\n",
    "    \"med_tipo_medicion\": [\n",
    "        (\n",
    "            \"Id\",\n",
    "            \"INT\",\n",
    "            \"Unique identifier for each measure type\",\n",
    "            1,\n",
    "            \"med_tipo_medicion\",\n",
    "        ),\n",
    "        (\n",
    "            \"Id\",\n",
    "            \"INT\",\n",
    "            \"Unique identifier for each measure type\",\n",
    "            1,\n",
    "            (\"med_tipo_medicion\", \"med_sistema_medicion\"),\n",
    "        ),\n",
    "        (\n",
    "            \"Nombre\",\n",
    "            \"VARCHAR(150)\",\n",
    "            \"Name of the measurement type\",\n",
    "            2,\n",
    "            \"med_tipo_medicion\",\n",
    "        ),\n",
    "        (\n",
    "            \"Estado\",\n",
    "            \"VARCHAR(10)\",\n",
    "            \"Status of the measurement type, active ('ACT') or inactive ('INA')\",\n",
    "            3,\n",
    "            \"med_tipo_medicion\",\n",
    "        ),\n",
    "    ]\n",
    "}\n",
    "\n",
    "##"
   ]
  },
  {
   "cell_type": "code",
   "execution_count": 3,
   "metadata": {},
   "outputs": [
    {
     "data": {
      "text/plain": [
       "{'analysis': 'This SQL query is incomplete because it contains a placeholder that needs to be replaced by the user.',\n",
       " 'class': 'incomplete',\n",
       " 'suggestion': 'The user needs to provide a specific tag to replace the placeholder in order to have a complete and correct SQL query.'}"
      ]
     },
     "execution_count": 3,
     "metadata": {},
     "output_type": "execute_result"
    }
   ],
   "source": [
    "# Cuando el request es COMPLEJO ----- Parte 3 (post-process): Clasificacion de SQL Generado (¿Esta completo o tiene placeholders?)\n",
    "\n",
    "from src.app.pipeline_processes.sql_post_process.generation import generate_sql_classification\n",
    "\n",
    "sql_class = generate_sql_classification(llm, sql_code_incompleto, semantic_info)\n",
    "sql_class"
   ]
  },
  {
   "cell_type": "code",
   "execution_count": 4,
   "metadata": {},
   "outputs": [
    {
     "data": {
      "text/plain": [
       "{'analysis': 'The user is requesting a pre query that will help them find the missing attributes in the incomplete SQL query.',\n",
       " 'sql_pre_query': 'SELECT DISTINCT Tag FROM dbo_v2.med_sistema_medicion;',\n",
       " 'tables': 'dbo_v2.med_sistema_medicion',\n",
       " 'intention': 'The intention of this pre query is to retrieve a list of distinct tags from the dbo_v2.med_sistema_medicion table, which the user can then use to replace the placeholder in the incomplete SQL query and obtain the missing attributes.'}"
      ]
     },
     "execution_count": 4,
     "metadata": {},
     "output_type": "execute_result"
    }
   ],
   "source": [
    "# Cuando el request es COMPLEJO ----- Parte 4 (post-process): Generando un Pre query si es necesario (¿Esta completo o tiene placeholders?)\n",
    "\n",
    "from src.app.pipeline_processes.sql_post_process.generation import generate_sql_pre_query\n",
    "\n",
    "assistant_analysis=\"This SQL query is incomplete because it contains a placeholder that needs to be replaced by the user.\"\n",
    "assistant_suggestion=\"The user needs to provide a specific tag to replace the placeholder in order to have a complete and correct SQL query.\"\n",
    "\n",
    "sql_pre_query = generate_sql_pre_query(llm, sql_code_incompleto, assistant_analysis, assistant_suggestion)\n",
    "sql_pre_query"
   ]
  },
  {
   "cell_type": "code",
   "execution_count": 7,
   "metadata": {},
   "outputs": [
    {
     "name": "stderr",
     "output_type": "stream",
     "text": [
      "C:\\Users\\lauth\\OneDrive\\Desktop\\sql_assistant_v3\\src\\utils\\sql_utils.py:8: UserWarning: pandas only supports SQLAlchemy connectable (engine/connection) or database string URI or sqlite3 DBAPI2 connection. Other DBAPI2 objects are not tested. Please consider using SQLAlchemy.\n",
      "  df = pd.read_sql_query(sql, conn)\n"
     ]
    },
    {
     "data": {
      "text/plain": [
       "{'user_request': 'The human is asking for a list of measurement systems similar to EMED',\n",
       " 'response': 'Here is a list of measurement systems similar to EMED: EMED-3138.11-128, EMED-3138.12-050, EMED-3138.12-052, EMED-3138.12-065, EMED-3138.12-105, EMED-3138.12-015, EMED-3138.12-102, EMED-3135.01-067, EMED-3161.01-060, EMED-3161.01-061. Please select an item from the list for more information.'}"
      ]
     },
     "execution_count": 7,
     "metadata": {},
     "output_type": "execute_result"
    }
   ],
   "source": [
    "# Cuando el request es COMPLEJO ----- Parte 4: Generando la respuesta al resultado sql.\n",
    "\n",
    "from src.utils.sql_utils import run_sql\n",
    "from src.app.pipeline_processes.sql_post_process.generation import (\n",
    "    generate_sql_summary_response,\n",
    ")\n",
    "\n",
    "completo_user_request = \"The human is asking for a list of measurement systems similar to EMED\"\n",
    "# incompleto_user_request = \"The user is asking for a specific measurement system tag\"\n",
    "is_prequery = False\n",
    "\n",
    "res_dataframe = run_sql(sql_code_completo)\n",
    "\n",
    "sql_summary = generate_sql_summary_response(\n",
    "    llm,\n",
    "    res_dataframe,\n",
    "    completo_user_request,\n",
    "    is_prequery\n",
    ")\n",
    "sql_summary"
   ]
  },
  {
   "cell_type": "code",
   "execution_count": 9,
   "metadata": {},
   "outputs": [
    {
     "name": "stdout",
     "output_type": "stream",
     "text": [
      "{'user_request': 'The human is asking for a list of measurement systems similar to EMED', 'response': 'Here is a list of measurement systems similar to EMED: EMED-3138.11-128, EMED-3138.12-050, EMED-3138.12-052, EMED-3138.12-065, EMED-3138.12-105, EMED-3138.12-015, EMED-3138.12-102, EMED-3135.01-067, EMED-3161.01-060, EMED-3161.01-061. Please select an item from the list for more information.'}\n"
     ]
    }
   ],
   "source": [
    "print(llm.responses[1].json_response)"
   ]
  },
  {
   "cell_type": "code",
   "execution_count": 4,
   "metadata": {},
   "outputs": [],
   "source": [
    "# Procesando la respuesta final\n",
    "\n",
    "from app.pipeline_processes.query_post_process.generation import translate_response\n",
    "\n",
    "user_input = \"Hola como te llamas?\"\n",
    "actual_answer=\"Hello, my name M-Assistant. How can I help you?\"\n",
    "\n",
    "res = translate_response(llm, user_input, actual_answer)"
   ]
  },
  {
   "cell_type": "code",
   "execution_count": 5,
   "metadata": {},
   "outputs": [
    {
     "data": {
      "text/plain": [
       "{'detected_language': 'spanish',\n",
       " 'response': '¡Hola, mi nombre es M-Assistant. ¿En qué puedo ayudarte?'}"
      ]
     },
     "execution_count": 5,
     "metadata": {},
     "output_type": "execute_result"
    }
   ],
   "source": [
    "res"
   ]
  },
  {
   "cell_type": "code",
   "execution_count": 6,
   "metadata": {},
   "outputs": [
    {
     "name": "stdout",
     "output_type": "stream",
     "text": [
      "[Base_LLM_Response(type=generate-request, prompt=The following is a conversation between ..., llm_response=\n",
      "intention: The human is requesting information from the EMED-2012-LR-P12 measurement system., json_response={'intention': 'The human is requesting information from the EMED-2012-LR-P12 measurement system.'}), Base_LLM_Response(type=post-process-translation, prompt=Your task is to translate Text_2, follow..., llm_response=\n",
      "detected_language: spanish\n",
      "response: ¡Hola, mi nombre es M-Assistant. ¿En qué puedo ayudarte?, json_response={'detected_language': 'spanish', 'response': '¡Hola, mi nombre es M-Assistant. ¿En qué puedo ayudarte?'})]\n"
     ]
    }
   ],
   "source": [
    "print(llm.get_responses())"
   ]
  },
  {
   "cell_type": "code",
   "execution_count": 14,
   "metadata": {},
   "outputs": [
    {
     "name": "stdout",
     "output_type": "stream",
     "text": [
      "{'detected_language': 'spanish', 'response': '¡Hola, mi nombre es M-Assistant. ¿En qué puedo ayudarte?'}\n"
     ]
    }
   ],
   "source": [
    "print(llm.responses[1].json_response)"
   ]
  }
 ],
 "metadata": {
  "kernelspec": {
   "display_name": "venv",
   "language": "python",
   "name": "python3"
  },
  "language_info": {
   "codemirror_mode": {
    "name": "ipython",
    "version": 3
   },
   "file_extension": ".py",
   "mimetype": "text/x-python",
   "name": "python",
   "nbconvert_exporter": "python",
   "pygments_lexer": "ipython3",
   "version": "3.11.5"
  }
 },
 "nbformat": 4,
 "nbformat_minor": 2
}
