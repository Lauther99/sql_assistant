{
 "cells": [
  {
   "cell_type": "code",
   "execution_count": null,
   "metadata": {},
   "outputs": [],
   "source": [
    "# Iniciando Componentes\n",
    "\n",
    "import sys\n",
    "sys.path.append(\"C:\\\\Users\\\\lauth\\\\OneDrive\\\\Desktop\\\\sql_assistant_v3\")\n",
    "from src.components.memory.memory import Memory\n",
    "from src.components.collector.collector import AppDataCollector, LLMResponseCollector\n",
    "from src.components.memory.memory import Memory\n",
    "from src.components.memory.memory_interfaces import AIMessage, HumanMessage\n",
    "from typing import List, Union\n",
    "\n",
    "# Memoria\n",
    "messages: List[Union[AIMessage, HumanMessage]]  = []\n",
    "memory = Memory(messages)"
   ]
  },
  {
   "cell_type": "code",
   "execution_count": 7,
   "metadata": {},
   "outputs": [
    {
     "name": "stdout",
     "output_type": "stream",
     "text": [
      "generate-request\n",
      "{'text': '\\nsummary:  Lauther introduces themselves, then asks the assistant for a list of measurement systems from the database, which the assistant responds to.\\nuser_intent: The user wants to get a list of measurement systems from the database.\\nslots: database=measurement_systems'} \n",
      "\n",
      "\n",
      "enhanced-request\n",
      "{'text': '\\nresponse:  The user is looking for a list of measurement systems from the measurement systems database.'} \n",
      "\n",
      "\n",
      "request-type\n",
      "{'text': '\\ntype:  complex\\nanalysis: This input is out of my knowledge, this type of request is related to getting information from the measurement systems database, which I do not have access to.'} \n",
      "\n",
      "\n",
      "complex_request_process_modification\n",
      "enhanced-request\n",
      "{'text': '\\nresponse:  The user is seeking a list of measurement systems from the measurement_systems database.'} \n",
      "\n",
      "\n",
      "Se esta levantando el modelo de embeddings :D, listo en: 44.79123306274414s\n",
      "technical-terms\n",
      "{'text': '\\nterms: measurement systems, measurement_systems'} \n",
      "\n",
      "\n",
      "flavored-request\n",
      "{'text': '\\nmodified_sentence: The user is seeking a list of measurement systems from the database.'} \n",
      "\n",
      "\n",
      "complex_request_process_semantics\n",
      "semantic-tables\n",
      "{'text': '\\ntables:  pla_plataforma, med_sistema_medicion, med_tipo_medicion, fcs_computador_medidor, med_tag'} \n",
      "\n",
      "\n",
      "complex_request_sql_generation\n",
      "generate-sql\n",
      "{'text': \"sql_query: SELECT Nombre AS Measurement_System_Name, Tag AS Measurement_System_Tag FROM dbo_v2.med_sistema_medicion;  \\nsuggestion: To improve the query results, you might specify if you want only active measurement systems by adding a condition for the 'Estado' column.  \\nused_tables: [med_sistema_medicion].  \\ntable_schema: dbo_v2.\"} \n",
      "\n",
      "\n",
      "complex_request_sql_verification\n",
      "classify-sql\n",
      "{'text': \"\\nclass: complete\\nanalysis: The SQL query is a simple SELECT statement that retrieves the 'Nombre' and 'Tag' columns from the'med_sistema_medicion' table.\\nsuggestion: This query is already complete and does not require any additional information.\\nsuggested_sql: SELECT Nombre AS Measurement_System_Name, Tag AS Measurement_System_Tag FROM dbo_v2.med_sistema_medicion;\"} \n",
      "\n",
      "\n",
      "Ejecutando codigo SQL ...\n"
     ]
    },
    {
     "name": "stderr",
     "output_type": "stream",
     "text": [
      "C:\\Users\\lauth\\OneDrive\\Desktop\\sql_assistant_v3\\src\\utils\\sql_utils.py:8: UserWarning: pandas only supports SQLAlchemy connectable (engine/connection) or database string URI or sqlite3 DBAPI2 connection. Other DBAPI2 objects are not tested. Please consider using SQLAlchemy.\n",
      "  df = pd.read_sql_query(sql, conn)\n"
     ]
    },
    {
     "name": "stdout",
     "output_type": "stream",
     "text": [
      "summary-response-sql\n",
      "{'text': 'response: Here is a list of measurement systems: EMED-3138.11-128, EMED-3138.12-050, EMED-3138.12-052, EMED-3138.12-065, EMED-3138.12-105, EST-3138.00-CONS_UDM, EST-3138.12-PILOTO, EST-LIBTQ-CX, FQIT-3138.12-015, TANQ-3138.11-011.'} \n",
      "\n",
      "\n",
      "post-process-translation\n",
      "{'text': 'detected_language: English.  \\nresponse: Here is a list of measurement systems: EMED-3138.11-128, EMED-3138.12-050, EMED-3138.12-052, EMED-3138.12-065, EMED-3138.12-105, EST-3138.00-CONS_UDM, EST-3138.12-PILOTO, EST-LIBTQ-CX, FQIT-3138.12-015, TANQ-3138.11-011.'} \n",
      "\n",
      "\n"
     ]
    }
   ],
   "source": [
    "# Ejecutando\n",
    "from src.app.app import chat\n",
    "\n",
    "\n",
    "current_conversation_summary = \"\"\"The conversation starts with the user introducing themselves as \"Lauther\".\"\"\"\n",
    "current_slots = \"None\"\n",
    "# ai_response = None\n",
    "\n",
    "# user_message = \"hi there, my name is Lauther\"\n",
    "user_message = \"could you give me a list of measurement systems from database?\"\n",
    "# user_message = \"now I would like the max temperature for the second one in list\"\n",
    "# user_message = \"Could you tell me the date when it was measured?\"\n",
    "# user_message = \"now I want the static pressure please\"\n",
    "# user_message = \"and what about the max static pressure?\"\n",
    "# user_message = \"and when it was measured?\"\n",
    "\n",
    "\n",
    "res = chat(\n",
    "    user_message=user_message,\n",
    "    chat_document=\"\", #! Hay que agregar el chat document, deberia venir de una busqueda a la base de datos\n",
    ")"
   ]
  },
  {
   "cell_type": "code",
   "execution_count": 6,
   "metadata": {},
   "outputs": [],
   "source": [
    "# Limpiando los recolectores\n",
    "collector = AppDataCollector()\n",
    "llm_collector = LLMResponseCollector()"
   ]
  },
  {
   "cell_type": "code",
   "execution_count": null,
   "metadata": {},
   "outputs": [],
   "source": [
    "print(collector.current_conversation_data)"
   ]
  },
  {
   "cell_type": "code",
   "execution_count": 4,
   "metadata": {},
   "outputs": [
    {
     "name": "stdout",
     "output_type": "stream",
     "text": [
      "AIMessage(\n",
      "  replied_user_message_id=UUID('197f400e-232a-4418-a85a-1e8f8c2be7ee')\n",
      "  message_id=UUID('9097af7a-82fb-485b-acd2-e1e74ec01f69'),\n",
      "  message='Hi Lauther! Nice to meet you! Is there something I can help you with or would you like to know more about the measurement systems I have information on?',\n",
      "  message_type='AI',\n",
      "  date_created=datetime.datetime(2024, 7, 22, 18, 19, 30, 523907),\n",
      "  sql_response=None,\n",
      "  dataframe=None,\n",
      ")\n"
     ]
    }
   ],
   "source": [
    "ai_response = collector.current_conversation_data.last_ai_message\n",
    "print(ai_response)"
   ]
  },
  {
   "cell_type": "code",
   "execution_count": null,
   "metadata": {},
   "outputs": [],
   "source": [
    "print(len(llm_collector.llm_responses))\n",
    "print(llm_collector.llm_responses[7].prompt)\n"
   ]
  },
  {
   "cell_type": "code",
   "execution_count": 8,
   "metadata": {},
   "outputs": [
    {
     "name": "stdout",
     "output_type": "stream",
     "text": [
      "\n",
      "<Human>: 2024-07-22 18:19:20.707579\n",
      "hi there, my name is Lauther\n",
      "<Assistant>: 2024-07-22 18:19:30.523907\n",
      "Hi Lauther! Nice to meet you! Is there something I can help you with or would you like to know more about the measurement systems I have information on?\n",
      "<Human>: 2024-07-22 18:21:04.919770\n",
      "could you give me a list of measurement systems from database?\n",
      "<Assistant>: 2024-07-22 18:22:28.578157\n",
      "Here is a list of measurement systems: EMED-3138.11-128, EMED-3138.12-050, EMED-3138.12-052, EMED-3138.12-065, EMED-3138.12-105, EST-3138.00-CONS_UDM, EST-3138.12-PILOTO, EST-LIBTQ-CX, FQIT-3138.12-015, TANQ-3138.11-011.\n",
      "Here is a dataframe from SQL: \n",
      "|    | Measurement_System_Name   | Measurement_System_Tag   |\n",
      "|---:|:--------------------------|:-------------------------|\n",
      "|  0 | EMED-3138.11-128          | EMED-3138.11-128         |\n",
      "|  1 | EMED-3138.12-050          | EMED-3138.12-050         |\n",
      "|  2 | EMED-3138.12-052          | EMED-3138.12-052         |\n",
      "|  3 | EMED-3138.12-065          | EMED-3138.12-065         |\n",
      "|  4 | EMED-3138.12-105          | EMED-3138.12-105         |\n",
      "|  5 | EST-3138.00-CONS_UDM      | EST-3138.00-CONS_UDM     |\n",
      "|  6 | EST-3138.12-PILOTO        | EST-3138.12-PILOTO       |\n",
      "|  7 | EST-LIBTQ-CX              | EST-LIBTQ-CX             |\n",
      "|  8 | FQIT-3138.12-015          | FQIT-3138.12-015         |\n",
      "|  9 | TANQ-3138.11-011          | TANQ-3138.11-011         |\n"
     ]
    }
   ],
   "source": [
    "print(memory.list_chat_messages())"
   ]
  },
  {
   "cell_type": "code",
   "execution_count": null,
   "metadata": {},
   "outputs": [],
   "source": [
    "collector.terms_dictionary"
   ]
  },
  {
   "cell_type": "code",
   "execution_count": null,
   "metadata": {},
   "outputs": [],
   "source": [
    "import json\n",
    "print(json.dumps(collector.terms_dictionary, indent=2))"
   ]
  },
  {
   "cell_type": "code",
   "execution_count": null,
   "metadata": {},
   "outputs": [],
   "source": [
    "import sqlglot\n",
    "import pyperclip\n",
    "\n",
    "sql = \"\"\"SELECT var.Valor AS 'Static Pressure (kPa)', med.Tag AS 'Measurement System Tag' FROM dbo_v2.var_variable_datos AS var INNER JOIN dbo_v2.med_sistema_medicion AS med ON var.idSistemaMedicion_fk = med.Id WHERE med.Tag = 'EMED-3138.12-050' AND var.Fecha = '2023-04-21' AND var.IdVariable_fk = 12 AND EXISTS (SELECT 1 FROM dbo_v2.var_variable_datos AS temp WHERE temp.idSistemaMedicion_fk = med.Id AND temp.Fecha = '2023-04-21' AND temp.IdVariable_fk = 6 AND temp.Valor <= 33.354)\"\"\"\n",
    "code = sqlglot.transpile(sql, write=\"tsql\", identify=True, pretty=True)[0]\n",
    "pyperclip.copy(code)\n",
    "print(code)"
   ]
  }
 ],
 "metadata": {
  "kernelspec": {
   "display_name": "venv",
   "language": "python",
   "name": "python3"
  },
  "language_info": {
   "codemirror_mode": {
    "name": "ipython",
    "version": 3
   },
   "file_extension": ".py",
   "mimetype": "text/x-python",
   "name": "python",
   "nbconvert_exporter": "python",
   "pygments_lexer": "ipython3",
   "version": "3.11.5"
  }
 },
 "nbformat": 4,
 "nbformat_minor": 2
}
