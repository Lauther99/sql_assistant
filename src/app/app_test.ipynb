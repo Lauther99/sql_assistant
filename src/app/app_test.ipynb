{
 "cells": [
  {
   "cell_type": "code",
   "execution_count": 1,
   "metadata": {},
   "outputs": [],
   "source": [
    "import sys\n",
    "sys.path.append(\"C:\\\\Users\\\\lauth\\\\OneDrive\\\\Desktop\\\\sql_assistant_v3\")\n"
   ]
  },
  {
   "cell_type": "code",
   "execution_count": 2,
   "metadata": {},
   "outputs": [
    {
     "name": "stdout",
     "output_type": "stream",
     "text": [
      "Nuevo chat creado!\n",
      "Conexion finalizada\n",
      "aed323cd-b7ce-48f3-9d52-dcc27145161a\n"
     ]
    }
   ],
   "source": [
    "# Creamos un nuevo chat\n",
    "import pyperclip\n",
    "import uuid\n",
    "from src.db.mongo.chats_manager import create_new_chat, find_chat_by_id\n",
    "\n",
    "# user_id = uuid.uuid4()\n",
    "user_id = uuid.UUID(\"a447f16a-2fa4-44c7-9f71-0c833b77628e\")\n",
    "chat_id = create_new_chat(user_id)\n",
    "pyperclip.copy(str(chat_id))\n",
    "print(chat_id)"
   ]
  },
  {
   "cell_type": "code",
   "execution_count": 3,
   "metadata": {},
   "outputs": [
    {
     "name": "stdout",
     "output_type": "stream",
     "text": [
      "Chat has been found\n",
      "Conexion finalizada\n"
     ]
    }
   ],
   "source": [
    "# Buscamos el chat en la db\n",
    "import uuid\n",
    "from src.db.mongo.chats_manager import find_chat_by_id\n",
    "\n",
    "chat_id = uuid.UUID(\"3fed4781-755e-4dc5-8621-3922ac70b084\")\n",
    "chat_document = find_chat_by_id(chat_id)\n",
    "\n",
    "chat_document_copy = chat_document.copy()"
   ]
  },
  {
   "cell_type": "code",
   "execution_count": 4,
   "metadata": {},
   "outputs": [
    {
     "name": "stdout",
     "output_type": "stream",
     "text": [
      "generate-request\n",
      "{'text': '\\nsummary:  The user asks the assistant to find the max static pressure for EMED-3135.01-067.\\nuser_intent:  The user wants to find the max static pressure for a specific product EMED-3135.01-067.\\nslots:  product=EMED-3135.01-067'} \n",
      "\n",
      "\n",
      "enhanced-request\n",
      "{'text': '\\nresponse:  The user is looking for the maximum static pressure of the specific product EMED-3135.01-067.'} \n",
      "\n",
      "\n",
      "request-type\n",
      "{'text': \"\\ntype:  complex\\nanalysis: This input is out of my knowledge, the user is asking for specific information about a product and its measurement system, which I don't have access to.\"} \n",
      "\n",
      "\n",
      "complex_request_process_modification\n",
      "enhanced-request\n",
      "{'text': '\\nresponse:  The user is looking for the maximum static pressure for the product EMED-3135.01-067.'} \n",
      "\n",
      "\n",
      "technical-terms\n",
      "{'text': '\\nterms: static pressure, product, EMED-3135.01-067'} \n",
      "\n",
      "\n",
      "flavored-keywords\n",
      "{'text': '\\nresponse: variable, measurement system, firmware, flow computer'} \n",
      "\n",
      "\n",
      "complex_request_process_semantics\n",
      "semantic-tables\n",
      "{'text': '\\ntables:  pla_plataforma, med_sistema_medicion, var_tipo_variable, var_variable_datos, equ_equipo, med_tag'} \n",
      "\n",
      "\n",
      "complex_request_sql_generation\n",
      "generate-sql\n",
      "{'text': \"sql_query: SELECT MAX(VD.Valor) AS 'Max Static Pressure' FROM dbo_v2.var_variable_datos AS VD INNER JOIN dbo_v2.med_sistema_medicion AS MSM ON VD.idSistemaMedicion_fk = MSM.Id INNER JOIN dbo_v2.var_tipo_variable AS VTV ON VD.IdVariable_fk = VTV.Id WHERE MSM.Tag = 'EMED-3135.01-067' AND VTV.Nombre = 'Pressão Estática (kPa)' AND VD.Fecha BETWEEN '2023-01-01' AND '2023-12-31'\\nsuggestion: To improve the query results, specify a date range or a specific date for the measurement if applicable, as the current query does not limit the date range for the maximum static pressure.\\nused_tables: [var_variable_datos, med_sistema_medicion, var_tipo_variable].\\ntable_schema: dbo_v2\"} \n",
      "\n",
      "\n",
      "Ejecutando codigo SQL ...\n"
     ]
    },
    {
     "name": "stderr",
     "output_type": "stream",
     "text": [
      "C:\\Users\\lauth\\OneDrive\\Desktop\\sql_assistant_v3\\src\\utils\\sql_utils.py:8: UserWarning: pandas only supports SQLAlchemy connectable (engine/connection) or database string URI or sqlite3 DBAPI2 connection. Other DBAPI2 objects are not tested. Please consider using SQLAlchemy.\n",
      "  df = pd.read_sql_query(sql, conn)\n"
     ]
    },
    {
     "name": "stdout",
     "output_type": "stream",
     "text": [
      "summary-response-sql\n",
      "{'text': 'response: The maximum static pressure for the product EMED-3135.01-067 is 61.4377.'} \n",
      "\n",
      "\n",
      "post-process-translation\n",
      "{'text': 'detected_language: English.  \\nresponse: The maximum static pressure for the product EMED-3135.01-067 is 61.4377.'} \n",
      "\n",
      "\n"
     ]
    }
   ],
   "source": [
    "# Usamos la funcion chat\n",
    "\n",
    "from src.app.app import chat\n",
    "\n",
    "new_user_message = \"i need to find the max static pressure for EMED-3135.01-067\"\n",
    "llm_collector, collector, res = chat(\n",
    "    new_user_message=new_user_message,\n",
    "    chat_document=chat_document_copy,\n",
    ")\n"
   ]
  },
  {
   "cell_type": "code",
   "execution_count": 11,
   "metadata": {},
   "outputs": [
    {
     "data": {
      "text/plain": [
       "dict_keys(['pla_plataforma', 'med_sistema_medicion', 'var_tipo_variable', 'var_variable_datos', 'equ_equipo', 'med_tag'])"
      ]
     },
     "execution_count": 11,
     "metadata": {},
     "output_type": "execute_result"
    }
   ],
   "source": [
    "collector.semantic_info.keys()"
   ]
  },
  {
   "cell_type": "code",
   "execution_count": 13,
   "metadata": {},
   "outputs": [
    {
     "name": "stdout",
     "output_type": "stream",
     "text": [
      "sql_query: SELECT MAX(VD.Valor) AS 'Max Static Pressure' FROM dbo_v2.var_variable_datos AS VD INNER JOIN dbo_v2.med_sistema_medicion AS MSM ON VD.idSistemaMedicion_fk = MSM.Id INNER JOIN dbo_v2.var_tipo_variable AS VTV ON VD.IdVariable_fk = VTV.Id WHERE MSM.Tag = 'EMED-3135.01-067' AND VTV.Nombre = 'Pressão Estática (kPa)' AND VD.Fecha BETWEEN '2023-01-01' AND '2023-12-31'\n",
      "suggestion: To improve the query results, specify a date range or a specific date for the measurement if applicable, as the current query does not limit the date range for the maximum static pressure.\n",
      "used_tables: [var_variable_datos, med_sistema_medicion, var_tipo_variable].\n",
      "table_schema: dbo_v2\n"
     ]
    }
   ],
   "source": [
    "print(llm_collector.llm_responses[7].llm_response)"
   ]
  },
  {
   "cell_type": "code",
   "execution_count": 18,
   "metadata": {},
   "outputs": [
    {
     "name": "stdout",
     "output_type": "stream",
     "text": [
      "|    |   Max Static Pressure |\n",
      "|---:|----------------------:|\n",
      "|  0 |               61.4377 |\n"
     ]
    }
   ],
   "source": [
    "import pandas as pd\n",
    "import pyperclip\n",
    "pyperclip.copy(pd.DataFrame(collector.dataframe_response).to_markdown())\n",
    "print(pd.DataFrame(collector.dataframe_response).to_markdown())\n"
   ]
  },
  {
   "cell_type": "code",
   "execution_count": 26,
   "metadata": {},
   "outputs": [
    {
     "name": "stdout",
     "output_type": "stream",
     "text": [
      "{'text': '\\nresponse: The maximum static pressure for the product EMED-3135.01-067 is 61.4377 kPa. This value is based on data from the year 2023, between January 1st and December 31st.'}\n"
     ]
    }
   ],
   "source": [
    "instr = \"\"\"According to this user request:\n",
    "<Request>\n",
    "The user is looking for the maximum static pressure for the product EMED-3135.01-067.\n",
    "</Request>\n",
    "\n",
    "This is an sql code:\n",
    "<Sql>\n",
    "SELECT MAX(VD.Valor) AS 'Max Static Pressure' FROM dbo_v2.var_variable_datos AS VD INNER JOIN dbo_v2.med_sistema_medicion AS MSM ON VD.idSistemaMedicion_fk = MSM.Id INNER JOIN dbo_v2.var_tipo_variable AS VTV ON VD.IdVariable_fk = VTV.Id WHERE MSM.Tag = 'EMED-3135.01-067' AND VTV.Nombre = 'Pressão Estática (kPa)' AND VD.Fecha BETWEEN '2023-01-01' AND '2023-12-31'\n",
    "</Sql>\n",
    "\n",
    "And this answer from database:\n",
    "<dataframe>\n",
    "|    |   Max Static Pressure |\n",
    "|---:|----------------------:|\n",
    "|  0 |               61.4377 |\n",
    "</dataframe>\n",
    "\n",
    "As an expert in SQL, your task is to understand the previous given information and explain briefly the response obtained for the user.\n",
    "\n",
    "Note: \n",
    "User is not an expert, so he does not need a lot of technical sql details.\n",
    "But you can explain understandable filters like dates or status.\n",
    "\n",
    "Output format response:\n",
    "The output should be formatted with the key format below. Do not add anything beyond the key format.\n",
    "Start Key format:\n",
    "\"response\" is the key and its content is: Brief analysis for normal user.\n",
    "End of Key format\n",
    "\n",
    "Begin!\"\"\"\n",
    "\n",
    "suffix = \"response:\"\n",
    "\n",
    "from src.components.models.llms.llms import HF_Llama38b_LLM, Openai_LLM\n",
    "llama3_llm = HF_Llama38b_LLM()\n",
    "llama3_llm.init_model()\n",
    "\n",
    "p = llama3_llm.apply_model_template(instr, suffix)\n",
    "r = llama3_llm.query_llm(p)\n",
    "print(r)"
   ]
  },
  {
   "cell_type": "code",
   "execution_count": 8,
   "metadata": {},
   "outputs": [
    {
     "name": "stdout",
     "output_type": "stream",
     "text": [
      "Save to chat successfully\n",
      "Conexion finalizada\n"
     ]
    }
   ],
   "source": [
    "# Actualizamos la db con la nueva respuesta\n",
    "from src.db.mongo.chats_manager import save_to_chat\n",
    "\n",
    "save_to_chat(chat_document_copy)"
   ]
  }
 ],
 "metadata": {
  "kernelspec": {
   "display_name": "venv",
   "language": "python",
   "name": "python3"
  },
  "language_info": {
   "codemirror_mode": {
    "name": "ipython",
    "version": 3
   },
   "file_extension": ".py",
   "mimetype": "text/x-python",
   "name": "python",
   "nbconvert_exporter": "python",
   "pygments_lexer": "ipython3",
   "version": "3.11.5"
  }
 },
 "nbformat": 4,
 "nbformat_minor": 2
}
