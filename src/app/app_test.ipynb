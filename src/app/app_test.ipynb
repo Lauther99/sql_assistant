{
 "cells": [
  {
   "cell_type": "code",
   "execution_count": 1,
   "metadata": {},
   "outputs": [],
   "source": [
    "import sys\n",
    "sys.path.append(\"C:\\\\Users\\\\lauth\\\\OneDrive\\\\Desktop\\\\sql_assistant_v3\")\n"
   ]
  },
  {
   "cell_type": "code",
   "execution_count": 2,
   "metadata": {},
   "outputs": [
    {
     "name": "stdout",
     "output_type": "stream",
     "text": [
      "Nuevo chat creado!\n",
      "Conexion finalizada\n",
      "52fc8fb6-29f4-48b1-89f4-1753380c5aab\n"
     ]
    }
   ],
   "source": [
    "# Creamos un nuevo chat\n",
    "import pyperclip\n",
    "import uuid\n",
    "from src.db.mongo.chats_manager import create_new_chat, find_chat_by_id\n",
    "\n",
    "# user_id = uuid.uuid4()\n",
    "user_id = uuid.UUID(\"a447f16a-2fa4-44c7-9f71-0c833b77628e\")\n",
    "chat_id = create_new_chat(user_id)\n",
    "pyperclip.copy(str(chat_id))\n",
    "print(chat_id)"
   ]
  },
  {
   "cell_type": "code",
   "execution_count": 3,
   "metadata": {},
   "outputs": [
    {
     "name": "stdout",
     "output_type": "stream",
     "text": [
      "Chat has been found\n",
      "Conexion finalizada\n"
     ]
    }
   ],
   "source": [
    "# Buscamos el chat en la db\n",
    "import uuid\n",
    "from src.db.mongo.chats_manager import find_chat_by_id\n",
    "\n",
    "chat_id = uuid.UUID(\"52fc8fb6-29f4-48b1-89f4-1753380c5aab\")\n",
    "chat_document = find_chat_by_id(chat_id)\n",
    "\n",
    "chat_document_copy = chat_document.copy()"
   ]
  },
  {
   "cell_type": "code",
   "execution_count": null,
   "metadata": {},
   "outputs": [],
   "source": [
    "# Usamos la funcion chat\n",
    "\n",
    "from src.app.app import chat\n",
    "\n",
    "new_user_message = \"Could you tell me the date when it was measured?\"\n",
    "llm_collector, collector, res = chat(\n",
    "    new_user_message=new_user_message,\n",
    "    chat_document=chat_document_copy,\n",
    ")\n"
   ]
  },
  {
   "cell_type": "code",
   "execution_count": 11,
   "metadata": {},
   "outputs": [
    {
     "name": "stdout",
     "output_type": "stream",
     "text": [
      "summary:  The conversation starts with the user asking the virtual assistant for a list of active measurement systems from the database, which includes their names and tags. The assistant responds with a list of active measurement systems. The user then asks for the maximum temperature in 2022 for the second measurement system in the list.\n",
      "user_intent: The user is retrieving specific data from a measurement system.\n",
      "slots: database=measurement_systems, active=true, Measurement_System_Tag=EST-3138.12-PILOTO\n"
     ]
    }
   ],
   "source": [
    "print(llm_collector.llm_responses[0].llm_response)"
   ]
  },
  {
   "cell_type": "code",
   "execution_count": 7,
   "metadata": {},
   "outputs": [
    {
     "name": "stdout",
     "output_type": "stream",
     "text": [
      "Guardando chat ...\n",
      "Save to chat successfully\n",
      "Conexion finalizada\n"
     ]
    }
   ],
   "source": [
    "# Actualizamos la db con la nueva respuesta\n",
    "from src.db.mongo.chats_manager import save_to_chat\n",
    "\n",
    "save_to_chat(chat_document_copy)"
   ]
  },
  {
   "cell_type": "code",
   "execution_count": 17,
   "metadata": {},
   "outputs": [
    {
     "name": "stdout",
     "output_type": "stream",
     "text": [
      "\n",
      "<Human>: 2024-08-05 11:07:13.425470\n",
      "give me a list of active measurment systems from database\n",
      "<Assistant>: 2024-08-05 11:08:28.389921\n",
      "The response shows a list of active measurement systems from the database, including their names and tags.\n",
      "Here is a dataframe from SQL: \n",
      "|    | Measurement_System_Name   | Measurement_System_Tag   |\n",
      "|---:|:--------------------------|:-------------------------|\n",
      "|  0 | EMED-3138.11-128          | EMED-3138.11-128         |\n",
      "|  1 | EMED-3138.12-050          | EMED-3138.12-050         |\n",
      "|  2 | EMED-3138.12-052          | EMED-3138.12-052         |\n",
      "|  3 | EMED-3138.12-065          | EMED-3138.12-065         |\n",
      "|  4 | EMED-3138.12-105          | EMED-3138.12-105         |\n",
      "|  5 | EST-3138.00-CONS_UDM      | EST-3138.00-CONS_UDM     |\n",
      "|  6 | EST-3138.12-PILOTO        | EST-3138.12-PILOTO       |\n",
      "|  7 | EST-LIBTQ-CX              | EST-LIBTQ-CX             |\n",
      "|  8 | FQIT-3138.12-015          | FQIT-3138.12-015         |\n",
      "|  9 | TANQ-3138.11-011          | TANQ-3138.11-011         |\n",
      "<Human>: 2024-08-05 11:10:20.199988\n",
      "i want the max temperature in 2022 for the second one\n",
      "<Assistant>: 2024-08-05 11:10:41.665798\n",
      "The SQL query retrieved data from the measurement systems database and returned the name and tag of the measurement system with the specific tag 'EST-3138.12-PILOTO', which matches the measurement system 'EST-3138.12-PILOTO' itself.\n",
      "Here is a dataframe from SQL: \n",
      "|    | Measurement_System_Name   | Measurement_System_Tag   |\n",
      "|---:|:--------------------------|:-------------------------|\n",
      "|  0 | EST-3138.12-PILOTO        | EST-3138.12-PILOTO       |\n",
      "<Human>: 2024-08-05 11:13:54.459909\n",
      "i want the max temperature in 2022 for the second one in previous list\n",
      "<Assistant>: 2024-08-05 11:14:26.220349\n",
      "The query searched for the maximum temperature recorded in 2022 for the measurement system EST-3138.12-PILOTO, but couldn't find any data that matches the specified conditions, so the result is an empty value.\n",
      "Here is a dataframe from SQL: \n",
      "|    | Max Temperature   |\n",
      "|---:|:------------------|\n",
      "|  0 |                   |\n",
      "<Human>: 2024-08-05 11:16:31.826698\n",
      "I mean, the one that has 'EMED-3138.12-050' as tag \n",
      "<Assistant>: 2024-08-05 11:16:55.688397\n",
      "The maximum temperature recorded for the measurement system with the tag 'EMED-3138.12-050' is 33.354 degrees Celsius.\n",
      "Here is a dataframe from SQL: \n",
      "|    |   Maximum Temperature |\n",
      "|---:|----------------------:|\n",
      "|  0 |                33.354 |\n",
      "<Human>: 2024-08-05 11:18:28.302900\n",
      "But for the year 2022\n",
      "<Assistant>: 2024-08-05 11:18:53.940107\n",
      "The maximum temperature for the measurement system with the tag 'EMED-3138.12-050' for the year 2022 is 31.5505 degrees Celsius.\n",
      "Here is a dataframe from SQL: \n",
      "|    |   Maximum Temperature |\n",
      "|---:|----------------------:|\n",
      "|  0 |               31.5505 |\n",
      "<Human>: 2024-08-05 11:19:22.691963\n",
      "Could you tell me the date when it was measured?\n",
      "<Assistant>: 2024-08-05 11:20:42.692422\n",
      "The maximum temperature of 31.5505 degrees Celsius was recorded on December 14, 2022, according to the data from the measurement system with the tag 'EMED-3138.12-050'.\n",
      "Here is a dataframe from SQL: \n",
      "|    | Date       |   Value | Measurement System Tag   |\n",
      "|---:|:-----------|--------:|:-------------------------|\n",
      "|  0 | 2022-12-14 | 31.5505 | EMED-3138.12-050         |\n"
     ]
    }
   ],
   "source": [
    "from src.components.memory.memory import Memory\n",
    "\n",
    "m = Memory(chat_document_copy)\n",
    "\n",
    "print(m.list_chat_messages())"
   ]
  }
 ],
 "metadata": {
  "kernelspec": {
   "display_name": "venv",
   "language": "python",
   "name": "python3"
  },
  "language_info": {
   "codemirror_mode": {
    "name": "ipython",
    "version": 3
   },
   "file_extension": ".py",
   "mimetype": "text/x-python",
   "name": "python",
   "nbconvert_exporter": "python",
   "pygments_lexer": "ipython3",
   "version": "3.11.5"
  }
 },
 "nbformat": 4,
 "nbformat_minor": 2
}
