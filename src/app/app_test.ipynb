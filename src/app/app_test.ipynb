{
 "cells": [
  {
   "cell_type": "code",
   "execution_count": 1,
   "metadata": {},
   "outputs": [],
   "source": [
    "import sys\n",
    "sys.path.append(\"C:\\\\Users\\\\lauth\\\\OneDrive\\\\Desktop\\\\sql_assistant_v3\")\n"
   ]
  },
  {
   "cell_type": "code",
   "execution_count": 2,
   "metadata": {},
   "outputs": [
    {
     "name": "stdout",
     "output_type": "stream",
     "text": [
      "Nuevo chat creado!\n",
      "Conexion finalizada\n",
      "aed323cd-b7ce-48f3-9d52-dcc27145161a\n"
     ]
    }
   ],
   "source": [
    "# Creamos un nuevo chat\n",
    "import pyperclip\n",
    "import uuid\n",
    "from src.db.mongo.chats_manager import create_new_chat, find_chat_by_id\n",
    "\n",
    "# user_id = uuid.uuid4()\n",
    "user_id = uuid.UUID(\"a447f16a-2fa4-44c7-9f71-0c833b77628e\")\n",
    "chat_id = create_new_chat(user_id)\n",
    "pyperclip.copy(str(chat_id))\n",
    "print(chat_id)"
   ]
  },
  {
   "cell_type": "code",
   "execution_count": 2,
   "metadata": {},
   "outputs": [
    {
     "name": "stdout",
     "output_type": "stream",
     "text": [
      "Chat has been found\n",
      "Conexion finalizada\n"
     ]
    }
   ],
   "source": [
    "# Buscamos el chat en la db\n",
    "import uuid\n",
    "from src.db.mongo.chats_manager import find_chat_by_id\n",
    "\n",
    "chat_id = uuid.UUID(\"3fed4781-755e-4dc5-8621-3922ac70b084\")\n",
    "chat_document = find_chat_by_id(chat_id)\n",
    "\n",
    "chat_document_copy = chat_document.copy()"
   ]
  },
  {
   "cell_type": "code",
   "execution_count": 8,
   "metadata": {},
   "outputs": [
    {
     "name": "stdout",
     "output_type": "stream",
     "text": [
      "generate-request\n",
      "{'text': '\\nsummary:  The user asked for the maximum static pressure from measurement system EMED-3135.01-067 and the assistant provided the result, then the user asked for the date it was taken, and the assistant showed the result from the SQL query, including the date.\\nuser_intent:  The user wants to know the date of the maximum static pressure reading.\\nslots: measurement_system=EMED-3135.01-067, max_static_pressure=-0.0143, date=?'} \n",
      "\n",
      "\n",
      "enhanced-request\n",
      "{'text': '\\nresponse:  The user is seeking the date when the maximum static pressure reading of -0.0143 was recorded in the measurement system EMED-3135.01-067.'} \n",
      "\n",
      "\n",
      "request-type\n",
      "{'text': \"\\ntype:  complex\\nanalysis: This input is out of my knowledge, as I don't have access to the measurement systems database.\"} \n",
      "\n",
      "\n",
      "complex_request_process_modification\n",
      "enhanced-request\n",
      "{'text': '\\nresponse:  The user is looking for the date associated with the maximum static pressure reading from the EMED-3135.01-067 measurement system, where the maximum static pressure is -0.0143.'} \n",
      "\n",
      "\n",
      "technical-terms\n",
      "{'text': '\\nterms: static pressure, measurement system, EMED-3135.01-067'} \n",
      "\n",
      "\n",
      "flavored-keywords\n",
      "{'text': '\\nresponse: variable, equipment type classification, measurement system, firmware, flow computer'} \n",
      "\n",
      "\n",
      "complex_request_process_semantics\n",
      "semantic-tables\n",
      "{'text': '\\ntables:  med_sistema_medicion, var_tipo_variable, var_variable_datos, equ_equipo, teq_tipo_equipo, fcs_computadores, fcs_computador_medidor'} \n",
      "\n",
      "\n",
      "complex_request_sql_generation\n",
      "generate-sql\n",
      "{'text': \"sql_query: SELECT Fecha FROM dbo_v2.var_variable_datos AS VD INNER JOIN dbo_v2.med_sistema_medicion AS MSM ON VD.idSistemaMedicion_fk = MSM.Id WHERE MSM.Tag = 'EMED-3135.01-067' AND VD.Valor = -0.0143 AND VD.IdVariable_fk = 12\\nsuggestion: The user could specify the date range for the query to narrow down the results further, if applicable.\\nused_tables: [var_variable_datos, med_sistema_medicion].\\ntable_schema: dbo_v2.\"} \n",
      "\n",
      "\n",
      "Ejecutando codigo SQL ...\n"
     ]
    },
    {
     "name": "stderr",
     "output_type": "stream",
     "text": [
      "C:\\Users\\lauth\\OneDrive\\Desktop\\sql_assistant_v3\\src\\utils\\sql_utils.py:8: UserWarning: pandas only supports SQLAlchemy connectable (engine/connection) or database string URI or sqlite3 DBAPI2 connection. Other DBAPI2 objects are not tested. Please consider using SQLAlchemy.\n",
      "  df = pd.read_sql_query(sql, conn)\n"
     ]
    },
    {
     "name": "stdout",
     "output_type": "stream",
     "text": [
      "summary-response-sql\n",
      "{'text': \"\\nresponse: The SQL query was used to find the date associated with the maximum static pressure reading from the EMED-3135.01-067 measurement system. The query filtered the data to show only the records where the tag is 'EMED-3135.01-067' and the value is -0.0143, which is the maximum static pressure. The result shows that the date associated with this maximum static pressure reading is 2023-03-02.\"} \n",
      "\n",
      "\n",
      "post-process-translation\n",
      "{'text': \"detected_language: English.  \\nresponse: The SQL query was used to find the date associated with the maximum static pressure reading from the EMED-3135.01-067 measurement system. The query filtered the data to show only the records where the tag is 'EMED-3135.01-067' and the value is -0.0143, which is the maximum static pressure. The result shows that the date associated with this maximum static pressure reading is 2023-03-02.\"} \n",
      "\n",
      "\n"
     ]
    }
   ],
   "source": [
    "# Usamos la funcion chat\n",
    "\n",
    "from src.app.app import chat\n",
    "\n",
    "new_user_message = \"But I want to know the date\"\n",
    "llm_collector, collector, res = chat(\n",
    "    new_user_message=new_user_message,\n",
    "    chat_document=chat_document_copy,\n",
    ")\n"
   ]
  },
  {
   "cell_type": "code",
   "execution_count": 6,
   "metadata": {},
   "outputs": [
    {
     "data": {
      "text/plain": [
       "['variable', 'equipment type classification', 'firmware', 'flow computer']"
      ]
     },
     "execution_count": 6,
     "metadata": {},
     "output_type": "execute_result"
    }
   ],
   "source": [
    "collector.semantic_list_terms"
   ]
  },
  {
   "cell_type": "code",
   "execution_count": null,
   "metadata": {},
   "outputs": [],
   "source": [
    "print(chat_document_copy.messages)"
   ]
  },
  {
   "cell_type": "code",
   "execution_count": 9,
   "metadata": {},
   "outputs": [
    {
     "name": "stdout",
     "output_type": "stream",
     "text": [
      "Error durante la conexion: cannot encode object: datetime.date(2023, 3, 2), of type: <class 'datetime.date'>\n",
      "Conexion finalizada\n"
     ]
    }
   ],
   "source": [
    "# Actualizamos la db con la nueva respuesta\n",
    "from src.db.mongo.chats_manager import save_to_chat\n",
    "\n",
    "save_to_chat(chat_document_copy)"
   ]
  }
 ],
 "metadata": {
  "kernelspec": {
   "display_name": "venv",
   "language": "python",
   "name": "python3"
  },
  "language_info": {
   "codemirror_mode": {
    "name": "ipython",
    "version": 3
   },
   "file_extension": ".py",
   "mimetype": "text/x-python",
   "name": "python",
   "nbconvert_exporter": "python",
   "pygments_lexer": "ipython3",
   "version": "3.11.5"
  }
 },
 "nbformat": 4,
 "nbformat_minor": 2
}
