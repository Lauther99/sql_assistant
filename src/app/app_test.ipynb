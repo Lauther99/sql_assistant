{
 "cells": [
  {
   "cell_type": "code",
   "execution_count": 1,
   "metadata": {},
   "outputs": [],
   "source": [
    "import sys\n",
    "sys.path.append(\"C:\\\\Users\\\\lauth\\\\OneDrive\\\\Desktop\\\\sql_assistant_v3\")\n"
   ]
  },
  {
   "cell_type": "code",
   "execution_count": 2,
   "metadata": {},
   "outputs": [
    {
     "name": "stdout",
     "output_type": "stream",
     "text": [
      "Nuevo chat creado!\n",
      "Conexion finalizada\n",
      "33c41141-0264-49f6-8bc9-b0e33acb555f\n"
     ]
    }
   ],
   "source": [
    "# Creamos un nuevo chat\n",
    "import pyperclip\n",
    "import uuid\n",
    "from src.db.mongo.chats_manager import create_new_chat, find_chat_by_id\n",
    "\n",
    "# user_id = uuid.uuid4()\n",
    "user_id = uuid.UUID(\"a447f16a-2fa4-44c7-9f71-0c833b77628e\")\n",
    "chat_id = create_new_chat(user_id)\n",
    "pyperclip.copy(str(chat_id))\n",
    "print(chat_id)"
   ]
  },
  {
   "cell_type": "code",
   "execution_count": 4,
   "metadata": {},
   "outputs": [
    {
     "name": "stdout",
     "output_type": "stream",
     "text": [
      "Chat has been found\n",
      "Conexion finalizada\n"
     ]
    }
   ],
   "source": [
    "# Buscamos el chat en la db\n",
    "import uuid\n",
    "from src.db.mongo.chats_manager import find_chat_by_id\n",
    "\n",
    "chat_id = uuid.UUID(\"33c41141-0264-49f6-8bc9-b0e33acb555f\")\n",
    "chat_document = find_chat_by_id(chat_id)\n",
    "\n",
    "chat_document_copy = chat_document.copy()"
   ]
  },
  {
   "cell_type": "code",
   "execution_count": 11,
   "metadata": {},
   "outputs": [
    {
     "name": "stdout",
     "output_type": "stream",
     "text": [
      "generate-request\n",
      "{'text': '\\nsummary:  The conversation starts with a greeting and small talk, then the user mentions their name, Lauther, and finally asks for a list of measurement systems, with the assistant offering assistance with temperature, pressure, viscosity, and other parameters of existing measurement systems in the database, and the user asks for active measurement systems.\\nuser_intent: The user wants to get a list of active measurement systems.\\nslots: measurement_systems=unknown, state=INA'} \n",
      "\n",
      "\n",
      "enhanced-request\n",
      "{'text': '\\nresponse:  The user is asking for a list of active measurement systems in the state of Indiana (INA).'} \n",
      "\n",
      "\n",
      "request-type\n",
      "{'text': '\\ntype:  complex\\nanalysis: This input is out of my knowledge, this type of request requires information from the measurement system database, which I do not have access to.'} \n",
      "\n",
      "\n",
      "complex_request_process_modification\n",
      "technical-terms\n",
      "{'text': '\\nterms: measurement systems, state, Indiana, INA'} \n",
      "\n",
      "\n",
      "flavored-keywords\n",
      "{'text': '\\nresponse: equipment type classification, measurement system'} \n",
      "\n",
      "\n",
      "complex_request_process_semantics\n",
      "semantic-tables\n",
      "{'text': '\\ntables:  pla_plataforma, med_tipo_medicion, med_sistema_medicion'} \n",
      "\n",
      "\n",
      "complex_request_sql_generation\n",
      "generate-sql\n",
      "{'text': \"sql_query: SELECT med.Nombre AS 'Measurement System Name', med.Tag AS 'Measurement System Tag', pla.Nombre AS 'Platform Name' FROM dbo_v2.med_sistema_medicion AS med INNER JOIN dbo_v2.pla_plataforma AS pla ON med.IdPlataforma_fk = pla.Id WHERE med.Estado = 'ACT' AND pla.Estado = 'ACT' AND pla.Nombre LIKE '%Indiana%';\\nsuggestion: To improve the query results, consider specifying the exact attributes or details you are interested in regarding the measurement systems, such as specific types of measurements or additional filtering criteria.\\nused_tables: [med_sistema_medicion, pla_plataforma].\\ntable_schema: dbo_v2.\"} \n",
      "\n",
      "\n",
      "Ejecutando codigo SQL ...\n"
     ]
    },
    {
     "name": "stderr",
     "output_type": "stream",
     "text": [
      "C:\\Users\\lauth\\OneDrive\\Desktop\\sql_assistant_v3\\src\\utils\\sql_utils.py:8: UserWarning: pandas only supports SQLAlchemy connectable (engine/connection) or database string URI or sqlite3 DBAPI2 connection. Other DBAPI2 objects are not tested. Please consider using SQLAlchemy.\n",
      "  df = pd.read_sql_query(sql, conn)\n"
     ]
    },
    {
     "name": "stdout",
     "output_type": "stream",
     "text": [
      "summary-response-sql\n",
      "{'text': '\\nresponse: This SQL query retrieved a list of active measurement systems in the state of Indiana, including their names and tags, and the platforms they are part of.'} \n",
      "\n",
      "\n",
      "post-process-translation\n",
      "{'text': 'detected_language: English.  \\nresponse: This SQL query retrieved a list of active measurement systems in the state of Indiana, including their names and tags, and the platforms they are part of.'} \n",
      "\n",
      "\n"
     ]
    }
   ],
   "source": [
    "# Usamos la funcion chat\n",
    "\n",
    "from src.app.app import chat\n",
    "\n",
    "new_user_message = \"haha very funny, I want the active ones\"\n",
    "llm_collector, collector, res = chat(\n",
    "    new_user_message=new_user_message,\n",
    "    chat_document=chat_document_copy,\n",
    ")\n"
   ]
  },
  {
   "cell_type": "code",
   "execution_count": null,
   "metadata": {},
   "outputs": [],
   "source": [
    "print(llm_collector.llm_responses[0].prompt)"
   ]
  },
  {
   "cell_type": "code",
   "execution_count": 12,
   "metadata": {},
   "outputs": [
    {
     "name": "stdout",
     "output_type": "stream",
     "text": [
      "Guardando chat ...\n",
      "Save to chat successfully\n",
      "Conexion finalizada\n"
     ]
    }
   ],
   "source": [
    "# Actualizamos la db con la nueva respuesta\n",
    "from src.db.mongo.chats_manager import save_to_chat\n",
    "\n",
    "save_to_chat(chat_document_copy)"
   ]
  },
  {
   "cell_type": "code",
   "execution_count": 13,
   "metadata": {},
   "outputs": [
    {
     "name": "stdout",
     "output_type": "stream",
     "text": [
      "\n",
      "<Human>: 2024-08-05 18:01:34.708585\n",
      "but they are different\n",
      "<Assistant>: 2024-08-05 18:01:48.884033\n",
      "I'm happy to help! Can I assist you in obtaining information about temperature, pressure, viscosity, or other parameters of the existing measurement systems in the database?\n",
      "<Human>: 2024-08-05 18:02:00.524144\n",
      "hi there!\n",
      "<Assistant>: 2024-08-05 18:02:12.284185\n",
      "Hi there! I'm happy to help! Can I assist you in obtaining information about temperature, pressure, viscosity, or other parameters of the existing measurement systems in the database?\n",
      "<Human>: 2024-08-05 18:03:35.075234\n",
      "my name is lauther\n",
      "<Assistant>: 2024-08-05 18:03:47.539253\n",
      "Hi Lauther! I'm happy to help! Can I assist you in obtaining information about temperature, pressure, viscosity, or other parameters of the existing measurement systems in the database?\n",
      "<Human>: 2024-08-05 18:04:08.045100\n",
      "can you give me a list of measurement systems?\n",
      "<Assistant>: 2024-08-05 18:05:41.030928\n",
      "The SQL query retrieved a list of measurement systems where the state is 'INA', which likely stands for 'Inactive', meaning these measurement systems are currently not in use.\n",
      "Here is a dataframe from SQL: \n",
      "|    | Measurement_System_Name   | Measurement_System_Tag   |\n",
      "|---:|:--------------------------|:-------------------------|\n",
      "|  0 | EMED_05                   | EMED_05                  |\n",
      "|  1 | EMED_10                   | EMED_10                  |\n",
      "|  2 | EMED_08                   | EMED_08                  |\n",
      "|  3 | EMED_102                  | EMED_102                 |\n",
      "|  4 | EMED_015                  | EMED_015                 |\n",
      "|  5 | TQ-3138.08011             | TQ-3138.08011            |\n",
      "|  6 | TI-TQ-3138.11-002(Meio)   | TI-TQ-3138.11-002(Meio)  |\n",
      "<Human>: 2024-08-05 18:08:44.388774\n",
      "haha very funny, I want the active ones\n",
      "<Assistant>: 2024-08-05 18:09:19.097455\n",
      "This SQL query retrieved a list of active measurement systems in the state of Indiana, including their names and tags, and the platforms they are part of.\n",
      "Here is a dataframe from SQL: \n",
      "\n"
     ]
    }
   ],
   "source": [
    "from src.components.memory.memory import Memory\n",
    "\n",
    "m = Memory(chat_document_copy)\n",
    "\n",
    "print(m.list_chat_messages())"
   ]
  }
 ],
 "metadata": {
  "kernelspec": {
   "display_name": "venv",
   "language": "python",
   "name": "python3"
  },
  "language_info": {
   "codemirror_mode": {
    "name": "ipython",
    "version": 3
   },
   "file_extension": ".py",
   "mimetype": "text/x-python",
   "name": "python",
   "nbconvert_exporter": "python",
   "pygments_lexer": "ipython3",
   "version": "3.11.5"
  }
 },
 "nbformat": 4,
 "nbformat_minor": 2
}
