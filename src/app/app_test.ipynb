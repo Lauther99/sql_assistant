{
 "cells": [
  {
   "cell_type": "code",
   "execution_count": 1,
   "metadata": {},
   "outputs": [],
   "source": [
    "import sys\n",
    "sys.path.append(\"C:\\\\Users\\\\lauth\\\\OneDrive\\\\Desktop\\\\sql_assistant_v3\")\n"
   ]
  },
  {
   "cell_type": "code",
   "execution_count": 2,
   "metadata": {},
   "outputs": [
    {
     "name": "stdout",
     "output_type": "stream",
     "text": [
      "Nuevo chat creado!\n",
      "Conexion finalizada\n",
      "aed323cd-b7ce-48f3-9d52-dcc27145161a\n"
     ]
    }
   ],
   "source": [
    "# Creamos un nuevo chat\n",
    "import pyperclip\n",
    "import uuid\n",
    "from src.db.mongo.chats_manager import create_new_chat, find_chat_by_id\n",
    "\n",
    "# user_id = uuid.uuid4()\n",
    "user_id = uuid.UUID(\"a447f16a-2fa4-44c7-9f71-0c833b77628e\")\n",
    "chat_id = create_new_chat(user_id)\n",
    "pyperclip.copy(str(chat_id))\n",
    "print(chat_id)"
   ]
  },
  {
   "cell_type": "code",
   "execution_count": 2,
   "metadata": {},
   "outputs": [
    {
     "name": "stdout",
     "output_type": "stream",
     "text": [
      "Chat has been found\n",
      "Conexion finalizada\n"
     ]
    }
   ],
   "source": [
    "# Buscamos el chat en la db\n",
    "import uuid\n",
    "from src.db.mongo.chats_manager import find_chat_by_id\n",
    "\n",
    "chat_id = uuid.UUID(\"aed323cd-b7ce-48f3-9d52-dcc27145161a\")\n",
    "chat_document = find_chat_by_id(chat_id)\n",
    "\n",
    "chat_document_copy = chat_document.copy()"
   ]
  },
  {
   "cell_type": "code",
   "execution_count": 4,
   "metadata": {},
   "outputs": [
    {
     "name": "stdout",
     "output_type": "stream",
     "text": [
      "generate-request\n",
      "{'text': \"\\nsummary:  The conversation starts with the user saying 'Hi there'. The assistant welcomes the user and asks how they can assist. The user then requests the max static pressure from the measurement system EMED-3135.01-067.\\nuser_intent: The user wants to get the max static pressure from the measurement system EMED-3135.01-067.\\nslots: measurement_system=EMED-3135.01-067\"} \n",
      "\n",
      "\n",
      "enhanced-request\n",
      "{'text': '\\nresponse:  The user is seeking the maximum static pressure from the measurement system EMED-3135.01-067.'} \n",
      "\n",
      "\n",
      "request-type\n",
      "{'text': '\\ntype:  \"complex\"\\nanalysis: \"This input is out of my knowledge, this type is complex because it is a specific request for information from a measurement system database, which I do not have access to.\"'} \n",
      "\n",
      "\n",
      "complex_request_process_modification\n",
      "enhanced-request\n",
      "{'text': '\\nresponse:  The user is seeking the maximum static pressure from the measurement system EMED-3135.01-067.'} \n",
      "\n",
      "\n",
      "Se esta levantando el modelo de embeddings :D, listo en: 44.79123306274414s\n",
      "technical-terms\n",
      "{'text': '\\nterms: static pressure, measurement system, EMED-3135.01-067'} \n",
      "\n",
      "\n",
      "flavored-keywords\n",
      "{'text': '\\nresponse: variable, equipment type classification, measurement system, firmware'} \n",
      "\n",
      "\n",
      "complex_request_process_semantics\n",
      "semantic-tables\n",
      "{'text': '\\ntables:  med_sistema_medicion, med_tipo_medicion, var_tipo_variable, var_variable_datos, equ_equipo, teq_tipo_equipo, teq_clasificacion, fcs_computadores'} \n",
      "\n",
      "\n",
      "complex_request_sql_generation\n",
      "generate-sql\n",
      "{'text': \"sql_query: SELECT MAX(VD.Valor) AS 'Max Static Pressure' FROM dbo_v2.var_variable_datos AS VD INNER JOIN dbo_v2.med_sistema_medicion AS MSM ON VD.idSistemaMedicion_fk = MSM.Id INNER JOIN dbo_v2.var_tipo_variable AS VTV ON VD.idVariable_fk = VTV.Id WHERE MSM.Tag = 'EMED-3135.01-067' AND VTV.Nombre = 'Pressão Estática (kPa)' AND VD.Fecha BETWEEN '2023-03-01' AND '2023-03-31'\\nsuggestion: The input request could specify the date range more clearly, such as including the year, to avoid ambiguity in future queries.\\nused_tables: [var_variable_datos, med_sistema_medicion, var_tipo_variable].\\ntable_schema: dbo_v2.\"} \n",
      "\n",
      "\n",
      "Ejecutando codigo SQL ...\n"
     ]
    },
    {
     "name": "stderr",
     "output_type": "stream",
     "text": [
      "C:\\Users\\lauth\\OneDrive\\Desktop\\sql_assistant_v3\\src\\utils\\sql_utils.py:8: UserWarning: pandas only supports SQLAlchemy connectable (engine/connection) or database string URI or sqlite3 DBAPI2 connection. Other DBAPI2 objects are not tested. Please consider using SQLAlchemy.\n",
      "  df = pd.read_sql_query(sql, conn)\n"
     ]
    },
    {
     "name": "stdout",
     "output_type": "stream",
     "text": [
      "summary-response-sql\n",
      "{'text': '\\nresponse: The maximum static pressure recorded by the measurement system EMED-3135.01-067 between March 1st, 2023, and March 31st, 2023, is -0.0143 kPa.'} \n",
      "\n",
      "\n",
      "post-process-translation\n",
      "{'text': 'detected_language: English.  \\nresponse: The maximum static pressure recorded by the measurement system EMED-3135.01-067 between March 1st, 2023, and March 31st, 2023, is -0.0143 kPa.'} \n",
      "\n",
      "\n"
     ]
    }
   ],
   "source": [
    "# Usamos la funcion chat\n",
    "\n",
    "from src.app.app import chat\n",
    "\n",
    "new_user_message = \"Give me the max static pressure from the measurement system EMED-3135.01-067\"\n",
    "llm_collector, collector, res = chat(\n",
    "    new_user_message=new_user_message,\n",
    "    chat_document=chat_document_copy,\n",
    ")\n"
   ]
  },
  {
   "cell_type": "code",
   "execution_count": null,
   "metadata": {},
   "outputs": [],
   "source": [
    "chat_document_copy"
   ]
  },
  {
   "cell_type": "code",
   "execution_count": null,
   "metadata": {},
   "outputs": [],
   "source": [
    "chat_document_copy"
   ]
  },
  {
   "cell_type": "code",
   "execution_count": 6,
   "metadata": {},
   "outputs": [
    {
     "name": "stdout",
     "output_type": "stream",
     "text": [
      "Guardando chat ...\n",
      "Save to chat successfully\n",
      "Conexion finalizada\n"
     ]
    }
   ],
   "source": [
    "# Actualizamos la db con la nueva respuesta\n",
    "from src.db.mongo.chats_manager import save_to_chat\n",
    "\n",
    "save_to_chat(chat_document_copy)"
   ]
  }
 ],
 "metadata": {
  "kernelspec": {
   "display_name": "venv",
   "language": "python",
   "name": "python3"
  },
  "language_info": {
   "codemirror_mode": {
    "name": "ipython",
    "version": 3
   },
   "file_extension": ".py",
   "mimetype": "text/x-python",
   "name": "python",
   "nbconvert_exporter": "python",
   "pygments_lexer": "ipython3",
   "version": "3.11.5"
  }
 },
 "nbformat": 4,
 "nbformat_minor": 2
}
