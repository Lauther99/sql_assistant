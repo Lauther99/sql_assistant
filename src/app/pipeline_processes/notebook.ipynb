{
 "cells": [
  {
   "cell_type": "markdown",
   "metadata": {},
   "source": [
    "# Manager -> **Query pre process**"
   ]
  },
  {
   "cell_type": "code",
   "execution_count": 1,
   "metadata": {},
   "outputs": [],
   "source": [
    "import sys\n",
    "sys.path.append(\"C:\\\\Users\\\\lauth\\\\OneDrive\\\\Desktop\\\\sql_assistant_v3\")\n",
    "\n",
    "from src.components.collector.collector import AppDataCollector, LLMResponseCollector\n",
    "from src.components.models.llms.llms import Langchain_OpenAI_LLM, HF_Llama38b_LLM\n",
    "from src.components.models.embeddings.embeddings import HF_MultilingualE5_Embeddings, Openai_Embeddings\n",
    "from src.components.memory.memory import Memory\n",
    "\n",
    "langchain_llm = Langchain_OpenAI_LLM()\n",
    "langchain_llm.init_model()\n",
    "\n",
    "hf_llm = HF_Llama38b_LLM()\n",
    "hf_llm.init_model()\n",
    "\n",
    "mle5_embeddings = HF_MultilingualE5_Embeddings()\n",
    "mle5_embeddings.init_model()\n",
    "\n",
    "openai_embeddings = Openai_Embeddings()\n",
    "openai_embeddings.init_model()\n",
    "\n",
    "memory = Memory()\n",
    "\n",
    "collector = AppDataCollector()\n",
    "llm_collector = LLMResponseCollector()\n"
   ]
  },
  {
   "cell_type": "code",
   "execution_count": 2,
   "metadata": {},
   "outputs": [],
   "source": [
    "memory.add_user_message(\"I want information from firmware EMED-2012-LR-P12\")"
   ]
  },
  {
   "cell_type": "code",
   "execution_count": 2,
   "metadata": {},
   "outputs": [],
   "source": [
    "collector.user_request = (\n",
    "    \"The human is requesting information from the FQI-EMED-3135.01-067 flow computer.\"\n",
    ")\n",
    "collector.modified_user_request = (\n",
    "    \"The human is requesting information from the FQI-EMED-3135.01-067 flow computer.\"\n",
    ")\n",
    "collector.flavored_request_for_semantic_search = (\n",
    "    '\"The human is requesting information from the firmware.\"'\n",
    ")\n",
    "collector.semantic_info = {\n",
    "    \"fcs_firmware\": [\n",
    "        (\n",
    "            \"Id\",\n",
    "            \"INT\",\n",
    "            \"Unique identifier for each flow computer firmware\",\n",
    "            1,\n",
    "            \"fcs_firmware\",\n",
    "        ),\n",
    "        (\n",
    "            \"Id\",\n",
    "            \"INT\",\n",
    "            \"Unique identifier for each flow computer firmware\",\n",
    "            1,\n",
    "            (\"fcs_computadores\", \"fcs_firmware\"),\n",
    "        ),\n",
    "        (\n",
    "            \"Firmware\",\n",
    "            \"VARCHAR(100)\",\n",
    "            \"Name or version of the firmware\",\n",
    "            2,\n",
    "            \"fcs_firmware\",\n",
    "        ),\n",
    "        (\n",
    "            \"Estado\",\n",
    "            \"VARCHAR(10)\",\n",
    "            \"Status of the firmware, active ('ACT') or inactive ('INA')\",\n",
    "            3,\n",
    "            \"fcs_firmware\",\n",
    "        ),\n",
    "        (\n",
    "            \"IdTipo_Computador\",\n",
    "            \"INT\",\n",
    "            \"Foreign key linking firmwares with flow computer types\",\n",
    "            999,\n",
    "            (\"fcs_firmware\", \"fcs_tipo_computador\"),\n",
    "        ),\n",
    "    ],\n",
    "    \"fcs_computadores\": [\n",
    "        (\n",
    "            \"Id\",\n",
    "            \"INT\",\n",
    "            \"Unique identifier for each flow computer\",\n",
    "            1,\n",
    "            \"fcs_computadores\",\n",
    "        ),\n",
    "        (\n",
    "            \"IP\",\n",
    "            \"VARCHAR(100)\",\n",
    "            \"Flow computer IP address of the flow computer\",\n",
    "            2,\n",
    "            \"fcs_computadores\",\n",
    "        ),\n",
    "        (\n",
    "            \"Puerto\",\n",
    "            \"INT\",\n",
    "            \"Flow computer primary port used for communications\",\n",
    "            3,\n",
    "            \"fcs_computadores\",\n",
    "        ),\n",
    "        (\"Tag\", \"VARCHAR(100)\", \"Flow computer name\", 4, \"fcs_computadores\"),\n",
    "        (\n",
    "            \"Estado\",\n",
    "            \"VARCHAR(100)\",\n",
    "            \"Current status of the flow computer, active ('1') or inactive ('2')\",\n",
    "            5,\n",
    "            \"fcs_computadores\",\n",
    "        ),\n",
    "        (\n",
    "            \"IdFirmware_fk\",\n",
    "            \"INT\",\n",
    "            \"Foreign key linking flow computers with respective firmware\",\n",
    "            999,\n",
    "            (\"fcs_computadores\", \"fcs_firmware\"),\n",
    "        ),\n",
    "    ],\n",
    "}\n",
    "\n",
    "collector.sql_code=(\"\"\"\n",
    "\n",
    "SELECT c.Tag, f.Firmware AS 'Revision/Version', tc.Nombre AS Marca FROM dbo_v2.fcs_computadores c JOIN dbo_v2.fcs_firmware f ON f.Id = c.IdFirmware_fk JOIN dbo_v2.fcs_tipo_computador tc ON tc.Id = f.IdTipo_Computador_fk WHERE c.Tag = 'FQI-EMED-3135.01-067'\n",
    "\n",
    "\"\"\").strip()\n",
    "\n",
    "collector.assistant_sql_code_suggestion = 'Please replace the placeholder \"<Flow computer Tag>\" with the actual tag of the flow computer you are interested in.'\n",
    "\n",
    "collector.assistant_sql_code_analysis='The query is almost complete and ready for execution, but it needs one more piece of information, \"Flow computer Tag\", to be specified.'\n",
    "\n",
    "collector.ai_pre_response = \"The FQI-EMED-3135.01-067 flow computer is a FB107 revision/version manufactured by FLOWBOSS.\"\n",
    "\n",
    "collector.ai_post_response = \"El computador de flujo FQI-EMED-3135.01-067 es una revisión/versión FB107 fabricada por FLOWBOSS.\"\n",
    "\n"
   ]
  },
  {
   "cell_type": "code",
   "execution_count": 4,
   "metadata": {},
   "outputs": [
    {
     "data": {
      "text/plain": [
       "'Post procesando la respuesta: '"
      ]
     },
     "execution_count": 4,
     "metadata": {},
     "output_type": "execute_result"
    }
   ],
   "source": [
    "\"\"\"Para pre procesar, obtener el request y clasificacion del request se usa: \"\"\"\n",
    "# query_pre_process(langchain_llm, memory, collector)\n",
    "\n",
    "\n",
    "\"\"\"Si el request es simple, se usa: \"\"\"\n",
    "# simple_request_process(langchain_llm, memory, collector)\n",
    "\n",
    "\n",
    "\n",
    "\"\"\"Si el request es complejo se usa: \"\"\"\n",
    "# ? Para modificar el request:\n",
    "# complex_request_process_modification(hf_llm, mle5_embeddings, collector)\n",
    "\n",
    "\n",
    "# ? Para buscar tablas e informacion semantica de la base sql en la base vectorial\n",
    "# complex_request_process_semantics(langchain_llm, openai_embeddings, collector)\n",
    "\n",
    "\n",
    "# ? Para generar el sql en primera instancia\n",
    "# complex_request_sql_generation(langchain_llm, collector)\n",
    "\n",
    "# ? Para verificar la clasificacion del sql completo o incompleto\n",
    "# complex_request_sql_verification(hf_llm, collector)\n",
    "\n",
    "# ? Para generando un pre query si el sql es incompleto\n",
    "# complex_request_pre_query_generation(langchain_llm, collector)\n",
    "\n",
    "\n",
    "# ? Para generar la respuesta de resumen al dtaframe del sql\n",
    "# primero se debe ejecutar el sql para obtener el dataframe df\n",
    "# df = run_sql(collector.sql_code) o run_sql(collector.sql_pre_query)\n",
    "# complex_request_sql_summary_response(langchain_llm, collector, df)\n",
    "\n",
    "\"\"\"Post procesando la respuesta: \"\"\"\n",
    "# query_post_process(langchain_llm, collector, \"Quiero saber informacion de FQI-EMED-3135.01-067\")\n"
   ]
  },
  {
   "cell_type": "code",
   "execution_count": 4,
   "metadata": {},
   "outputs": [
    {
     "name": "stdout",
     "output_type": "stream",
     "text": [
      "generate-request\n",
      "{'text': '\\nintention:  The human is seeking the average temperature for a specific location (EMED-3138.12-050) in a specific month and year (August 2023).'} \n",
      "\n",
      "\n",
      "{'intention': ' The human is seeking the average temperature for a specific location (EMED-3138.12-050) in a specific month and year (August 2023).'}\n"
     ]
    }
   ],
   "source": [
    "from src.app.pipeline_processes.query_pre_process.generation import generate_request\n",
    "\n",
    "memory.clear_memory()\n",
    "memory.add_user_message(\"Give me the average temperature for EMED-3138.12-050 in august 2023\")\n",
    "# memory.add_user_message(\"I want information from firmware EMED-2012-LR-P12\")\n",
    "\n",
    "a = generate_request(hf_llm, llm_collector, memory)\n",
    "print(a)"
   ]
  },
  {
   "cell_type": "code",
   "execution_count": 9,
   "metadata": {},
   "outputs": [
    {
     "name": "stdout",
     "output_type": "stream",
     "text": [
      "<|begin_of_text|><|start_header_id|>system<|end_header_id|>\n",
      "Your are a very helpfull assistant<|eot_id|><|start_header_id|>user<|end_header_id|>\n",
      "I need your help, I'm trying to generate a summarize request from a user in a conversation.\n",
      "\n",
      "Following the next conversation\n",
      "Human Message: Give me the average temperature for EMED-3138.12-050 in august 2023\n",
      "\n",
      "END OF CONVERSATION\n",
      "\n",
      "Your task is to analyze the messages and briefly describe in one line the human intention and what he is looking for or doing.\n",
      "\n",
      "Here are some advices for a better response:\n",
      " - Pay attention if the last message refers to previous ones to add necessary information located in previous messages.\n",
      " - You may add sensitive information to your response, like names or technical terms that are mentioned in conversation.\n",
      " - Do not include any explanations or apologies in your response.\n",
      " - Do not add your own conclusions or clarifications.\n",
      " - Do not add words nor nouns nor adjectives to complement the response if these are not mentioned in the conversation.\n",
      "\n",
      "Output format response:\n",
      "The output should be formatted with the key format below. Do not add anything beyond the key format.\n",
      "Start Key format:\n",
      "\"intention\" is the key and its content is: Detailed user request. It may start with The human is . . .\n",
      "End of Key format\n",
      "\n",
      "Begin!<|eot_id|><|start_header_id|>\n",
      "assistant<|end_header_id|>\n",
      "intention: \n"
     ]
    }
   ],
   "source": [
    "print(llm_collector.llm_responses[0].prompt)"
   ]
  },
  {
   "cell_type": "code",
   "execution_count": 21,
   "metadata": {},
   "outputs": [
    {
     "name": "stdout",
     "output_type": "stream",
     "text": [
      "{'text': \"\\nsummary:  Hello Lauther, I'm M-bot your assistant for measurement. What can I do for you? Give me the average temperature for EMED-3138.12-050 in August 2023.\"}\n"
     ]
    }
   ],
   "source": [
    "asd = \"\"\"<|begin_of_text|><|start_header_id|>system<|end_header_id|>\n",
    "Your are a very helpfull assistant<|eot_id|><|start_header_id|>user<|end_header_id|>\n",
    "Following the next conversation\n",
    "Human Message: My name is Lauther\n",
    "AI Message: Hello Lauther, I'm M-bot your assistant for measurement. What can I do for you?\n",
    "Human Message: Give me the average temperature for EMED-3138.12-050 in august 2023\n",
    "\n",
    "END OF CONVERSATION\n",
    "\n",
    "Your task is to describe and summarize the conversation.\n",
    "\n",
    "Here are some advices for a better response:\n",
    " - You may add sensitive information to your response, like names or technical terms that are mentioned in conversation.\n",
    " - Do not include any explanations or apologies in your response.\n",
    " - Do not add your own conclusions or clarifications.\n",
    " - Do not add words nor nouns nor adjectives to complement the response if these are not mentioned in the conversation.\n",
    "\n",
    "Output format response:\n",
    "The output should be formatted with the key format below. Do not add anything beyond the key format.\n",
    "Start Key format:\n",
    "\"summary\" is the key and its content is: Brief detailed summary of the conversation . . .\n",
    "End of Key format\n",
    "\"\"\"\n",
    "\n",
    "p = hf_llm.apply_model_template(asd, \"summary: \")\n",
    "\n",
    "res = hf_llm.query_llm(p)\n",
    "\n",
    "print(res)"
   ]
  },
  {
   "cell_type": "code",
   "execution_count": 23,
   "metadata": {},
   "outputs": [
    {
     "name": "stdout",
     "output_type": "stream",
     "text": [
      "Se esta levantando el modelo de embeddings :D, listo en: 44.79123306274414s\n",
      "technical-terms\n",
      "{'text': '\\nterms: temperature, EMED-3138.12-050'} \n",
      "\n",
      "\n",
      "has-multi-definition\n",
      "{'text': '\\nclass: clear\\nanalysis: The sentence is clear because the term \"temperature\" is unambiguously referring to a variable read in the measurement system, and the term \"EMED-3138.12-050\" is unambiguously referring to the name/tag of the measurement system, which is consistent with its definition.'} \n",
      "\n",
      "\n",
      "modified-request\n",
      "{'text': '\\nmodified_sentence: \"Hello Lauther, I\\'m M-bot your assistant for measurement. What can I do for you? Give me the average variable for the measurement system in August 2023.\"'} \n",
      "\n",
      "\n"
     ]
    }
   ],
   "source": [
    "from src.app.pipeline_processes.sql_pre_process.manager import complex_request_process_modification\n",
    "\n",
    "\n",
    "collector.user_request=\"Hello Lauther, I'm M-bot your assistant for measurement. What can I do for you? Give me the average temperature for EMED-3138.12-050 in August 2023.\"\n",
    "\n",
    "r = complex_request_process_modification(hf_llm, mle5_embeddings, collector, llm_collector)"
   ]
  },
  {
   "cell_type": "code",
   "execution_count": 24,
   "metadata": {},
   "outputs": [
    {
     "name": "stdout",
     "output_type": "stream",
     "text": [
      "AppDataCollector(user_request=\"Hello Lauther, I'm M-bot your assistant for measurement. What can I do for you? Give me the average temperature for EMED-3138.12-050 in August 2023.\", modified_user_request=\"Hello Lauther, I'm M-bot your assistant for measurement. What can I do for you? Give me the average temperature for EMED-3138.12-050 in August 2023.\", request_type=None, simple_response=None, technical_terms=['temperature', 'EMED-3138.12-050'], terms_dictionary=[{'original_term': 'temperature', 'cleaned_term': 'temperature', 'definitions': [{'sql_instructions': \"Use 'Temperatura (°C)' in the WHERE statement when refers to temperature.\", 'table_name': 'var_tipo_variable', 'standard_term': 'variable', 'definition': \"When talking about the term 'temperature' or similar, this refers to a variable read in the measurement system.\", 'replace_instruction': \"The term 'temperature' or related refers to a variable read in measurement system, replace with 'variable'.\"}]}, {'original_term': 'EMED-3138.12-050', 'cleaned_term': 'emed', 'definitions': [{'sql_instructions': '', 'table_name': 'med_sistema_medicion', 'standard_term': 'measurement system', 'definition': \"When talking about the term 'EMED' or similar, it refers to the name/tag of the measurement system.\", 'replace_instruction': \"When talking about 'EMED' as a measurement system replace with 'measurement system' instead.\"}, {'sql_instructions': \"When context is related to flow computer firmware, 'EMED-010' could be the name of the flow computer firmware.\", 'table_name': 'fcs_firmware', 'standard_term': 'firmware', 'definition': \"Terms related to 'EMED-010' sometimes are names of flow computers firmwares/type\", 'replace_instruction': \"When talking about 'EMED-010' as a flow computer firmware, replace with 'firmware' instead of EMED-010.\"}, {'sql_instructions': '', 'table_name': 'fcs_computadores', 'standard_term': 'flow computer', 'definition': \"When talking about the term 'EMED' or similar, it refers to the name of flow computer.\", 'replace_instruction': \"When talking about 'EMED' as a flow computer replace with 'flow computer' instead.\"}]}], flavored_request_for_semantic_search='\"Hello Lauther, I\\'m M-bot your assistant for measurement. What can I do for you? Give me the average variable for the measurement system in August 2023.\"', semantic_info=None, sql_code=None, assistant_sql_code_class=None, assistant_sql_code_analysis=None, assistant_sql_code_suggestion=None, sql_pre_query=None, ai_pre_response=None, dataframe_response=None, ai_post_response=None, detected_language=None)\n"
     ]
    }
   ],
   "source": [
    "print(r)"
   ]
  }
 ],
 "metadata": {
  "kernelspec": {
   "display_name": "venv",
   "language": "python",
   "name": "python3"
  },
  "language_info": {
   "codemirror_mode": {
    "name": "ipython",
    "version": 3
   },
   "file_extension": ".py",
   "mimetype": "text/x-python",
   "name": "python",
   "nbconvert_exporter": "python",
   "pygments_lexer": "ipython3",
   "version": "3.11.5"
  }
 },
 "nbformat": 4,
 "nbformat_minor": 2
}
