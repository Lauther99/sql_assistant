{
 "cells": [
  {
   "cell_type": "code",
   "execution_count": 1,
   "metadata": {},
   "outputs": [],
   "source": [
    "import sys\n",
    "sys.path.append(\"C:\\\\Users\\\\lauth\\\\OneDrive\\\\Desktop\\\\sql_assistant_v3\")\n",
    "from src.settings.settings import Settings\n",
    "from src.db.mongo.interfaces import ChatDocument\n",
    "import uuid\n",
    "import traceback\n",
    "\n",
    "def create_new_chat(user_id : uuid.UUID):\n",
    "    client, collection = Settings.MongoDB.get_chats_collection()\n",
    "    \n",
    "    new_chat = ChatDocument()\n",
    "    new_chat.user_id = user_id\n",
    "    new_chat.conversation_id = uuid.uuid4()\n",
    "    \n",
    "    new_chat_document = new_chat.chat_document_to_dict()\n",
    "    try:\n",
    "        collection.insert_one(new_chat_document).inserted_id\n",
    "        print(\"Nuevo chat creado!\\n\", new_chat_document)\n",
    "    except Exception as e:\n",
    "        print(f\"Error durante la conexion: {e}\")\n",
    "    \n",
    "    finally:\n",
    "        client.close()\n",
    "        print(\"Conexion finalizada\")\n"
   ]
  },
  {
   "cell_type": "code",
   "execution_count": 2,
   "metadata": {},
   "outputs": [],
   "source": [
    "def find_chat_by_id(chat_id: uuid.UUID):\n",
    "    client, collection = Settings.MongoDB.get_chats_collection()\n",
    "\n",
    "    try:\n",
    "        chat = collection.find_one({\"conversation_id\": str(chat_id)})\n",
    "        print(\"Chat has been found\")\n",
    "        chat_document = ChatDocument.parse_dict_to_document(chat)\n",
    "        \n",
    "        return chat_document\n",
    "    \n",
    "    except Exception as e:\n",
    "        print(f\"Error durante la conexion: {e}\")\n",
    "        traceback.print_exc()\n",
    "        \n",
    "    finally:\n",
    "        client.close()\n",
    "        print(\"Conexion finalizada\")"
   ]
  },
  {
   "cell_type": "code",
   "execution_count": 3,
   "metadata": {},
   "outputs": [],
   "source": [
    "def save_to_chat(new_data: ChatDocument, conversation_id: uuid.UUID):\n",
    "    client, collection = Settings.MongoDB.get_chats_collection()\n",
    "    \n",
    "    chat_dict = new_data.chat_document_to_dict()\n",
    "    del chat_dict[\"user_id\"]\n",
    "    del chat_dict[\"conversation_id\"]\n",
    "    print(chat_dict)\n",
    "\n",
    "    try:\n",
    "        collection.update_one(\n",
    "            {\"conversation_id\": str(conversation_id)}, \n",
    "            {\"$set\": chat_dict}, \n",
    "            upsert=True\n",
    "        )\n",
    "        print(\"Save to chat successfully\")\n",
    "        \n",
    "    except Exception as e:\n",
    "        print(f\"Error durante la conexion: {e}\")\n",
    "    finally:\n",
    "        client.close()\n",
    "        print(\"Conexion finalizada\")"
   ]
  },
  {
   "cell_type": "code",
   "execution_count": null,
   "metadata": {},
   "outputs": [],
   "source": [
    "from datetime import datetime\n",
    "from src.components.memory.memory_interfaces import HumanMessage, AIMessage\n",
    "\n",
    "conversation_id = uuid.UUID(\"e5022553-cc15-427a-99a3-6e20ac5359f6\")\n",
    "chat_document = ChatDocument()\n",
    "\n",
    "chat_document.last_user_message = HumanMessage(\"I want a list of measurement systems\")\n",
    "chat_document.last_assistant_message = AIMessage(\n",
    "    uuid.UUID(\"95e7574b-0192-45f8-873b-746d33eba54f\"),\n",
    "    \"Hello Lauther, how are ypu?\",\n",
    "    sql_response=\"asdsada\"\n",
    ")\n",
    "chat_document.messages = [\n",
    "    chat_document.last_user_message,\n",
    "    chat_document.last_assistant_message,\n",
    "]\n",
    "\n",
    "chat_document.last_interaction = datetime.now()\n",
    "chat_document.conversation_slots = \"measurement_systems=database\"\n",
    "chat_document.current_summary = (\n",
    "    \"The user is introducing himself and requires a list of measurement systems\"\n",
    ")\n",
    "\n",
    "chat = save_to_chat(chat_document, conversation_id)\n",
    "\n",
    "chat"
   ]
  },
  {
   "cell_type": "code",
   "execution_count": 4,
   "metadata": {},
   "outputs": [
    {
     "name": "stdout",
     "output_type": "stream",
     "text": [
      "Chat has been found\n",
      "{'message_id': '181e84b1-0554-471f-b517-40e2249d4bc5', 'message': 'Hello Lauther, how are ypu?', 'message_type': 'AI', 'date_created': '2024-07-24T10:43:53.697479', 'replied_user_message_id': UUID('95e7574b-0192-45f8-873b-746d33eba54f'), 'sql_response': 'asdsada', 'dataframe': None}\n",
      "{'message_id': '181e84b1-0554-471f-b517-40e2249d4bc5', 'message': 'Hello Lauther, how are ypu?', 'message_type': 'AI', 'date_created': '2024-07-24T10:43:53.697479', 'replied_user_message_id': UUID('95e7574b-0192-45f8-873b-746d33eba54f'), 'sql_response': 'asdsada', 'dataframe': None}\n",
      "Conexion finalizada\n"
     ]
    },
    {
     "data": {
      "text/plain": [
       "ChatDocument(user_id=95e7574b-0192-45f8-873b-746d33eba54f,\n",
       "conversation_id=e5022553-cc15-427a-99a3-6e20ac5359f6,\n",
       "messages=[HumanMessage(\n",
       "  message_id=UUID('b21245c8-5219-4b0d-ad3a-ca7e78bdcace'),\n",
       "  message='I want a list of measurement systems',\n",
       "  message_type='Human',\n",
       "  date_created=datetime.datetime(2024, 7, 24, 11, 6, 1, 879938)\n",
       "), AIMessage(\n",
       "  replied_user_message_id=UUID('95e7574b-0192-45f8-873b-746d33eba54f')\n",
       "  message_id=UUID('d389d587-bdff-4a7d-aedb-6f29fe5e12fd'),\n",
       "  message='Hello Lauther, how are ypu?',\n",
       "  message_type='AI',\n",
       "  date_created=datetime.datetime(2024, 7, 24, 11, 6, 1, 879938),\n",
       "  sql_response='asdsada',\n",
       "  dataframe=None,\n",
       ")],\n",
       "last_user_message=HumanMessage(\n",
       "  message_id=UUID('b17fec19-9232-491f-8d66-3cccd7ac4d6f'),\n",
       "  message='I want a list of measurement systems',\n",
       "  message_type='Human',\n",
       "  date_created=datetime.datetime(2024, 7, 24, 11, 6, 1, 879938)\n",
       "),\n",
       "last_assistant_message=AIMessage(\n",
       "  replied_user_message_id=UUID('95e7574b-0192-45f8-873b-746d33eba54f')\n",
       "  message_id=UUID('5f37080c-876e-43aa-8ebf-1d348c67c400'),\n",
       "  message='Hello Lauther, how are ypu?',\n",
       "  message_type='AI',\n",
       "  date_created=datetime.datetime(2024, 7, 24, 11, 6, 1, 879938),\n",
       "  sql_response='asdsada',\n",
       "  dataframe=None,\n",
       "),\n",
       "conversation_slots=measurement_systems=database,\n",
       "last_interaction=2024-07-24 10:43:53.697479,\n",
       "current_summary=The user is introducing himself and requires a list of measurement systems)"
      ]
     },
     "execution_count": 4,
     "metadata": {},
     "output_type": "execute_result"
    }
   ],
   "source": [
    "conversation_id = uuid.UUID(\"e5022553-cc15-427a-99a3-6e20ac5359f6\")\n",
    "\n",
    "chat = find_chat_by_id(conversation_id)\n",
    "chat"
   ]
  }
 ],
 "metadata": {
  "kernelspec": {
   "display_name": "venv",
   "language": "python",
   "name": "python3"
  },
  "language_info": {
   "codemirror_mode": {
    "name": "ipython",
    "version": 3
   },
   "file_extension": ".py",
   "mimetype": "text/x-python",
   "name": "python",
   "nbconvert_exporter": "python",
   "pygments_lexer": "ipython3",
   "version": "3.11.5"
  }
 },
 "nbformat": 4,
 "nbformat_minor": 2
}
