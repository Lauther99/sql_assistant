{
 "cells": [
  {
   "cell_type": "code",
   "execution_count": 1,
   "metadata": {},
   "outputs": [],
   "source": [
    "import sys\n",
    "sys.path.append(\"C:\\\\Users\\\\lauth\\\\OneDrive\\\\Desktop\\\\sql_assistant_v3\")\n",
    "from src.settings.settings import Settings"
   ]
  },
  {
   "cell_type": "code",
   "execution_count": 5,
   "metadata": {},
   "outputs": [],
   "source": [
    "import sys\n",
    "\n",
    "sys.path.append(\"C:\\\\Users\\\\lauth\\\\OneDrive\\\\Desktop\\\\sql_assistant_v3\")\n",
    "from chromadb.api.models.Collection import Collection\n",
    "from typing import Optional\n",
    "from src.utils.utils import clean_sentence\n",
    "\n",
    "sql_collection = Settings.Chroma.get_sql_examples_collection()\n",
    "\n",
    "def query_by_vector_embedding(\n",
    "    collection: Collection,\n",
    "    vector_embedding: list[float],\n",
    "    n: Optional[int] = 5,\n",
    "    score_threshold: Optional[float] = 0.2,\n",
    "):\n",
    "    \n",
    "    results = collection.query(\n",
    "        query_embeddings=vector_embedding,\n",
    "        n_results=n,\n",
    "        include=[\"distances\", \"metadatas\"],\n",
    "    )\n",
    "\n",
    "    data = set()\n",
    "\n",
    "    for distances, metadatas in zip(results[\"distances\"], results[\"metadatas\"]):\n",
    "        for distance, metadata in zip(distances, metadatas):\n",
    "            if distance <= score_threshold:\n",
    "                metadata_tuple = tuple(metadata.items())\n",
    "                data.add(metadata_tuple)\n",
    "\n",
    "    return tuple(data)"
   ]
  },
  {
   "cell_type": "code",
   "execution_count": 20,
   "metadata": {},
   "outputs": [],
   "source": [
    "from src.components.models.models import Openai_Model\n",
    "text = \"The human is requesting list of measurement systems\"\n",
    "\n",
    "model = Openai_Model()\n",
    "model.init_model()\n",
    "\n",
    "vector = model.get_embeddings(text)\n",
    "# res = query_by_vector_embedding(sql_collection, vector)"
   ]
  },
  {
   "cell_type": "code",
   "execution_count": 22,
   "metadata": {},
   "outputs": [],
   "source": [
    "from src.db.handlers.handlers import query_by_texts\n",
    "\n",
    "res = query_by_texts(sql_collection, [text])"
   ]
  },
  {
   "cell_type": "code",
   "execution_count": 23,
   "metadata": {},
   "outputs": [
    {
     "data": {
      "text/plain": [
       "((('answer',\n",
       "   \"SELECT med.Nombre AS 'Measurement System Name', flu_tipo_fluido.Nombre AS 'Fluid Type'  FROM dbo_v2.med_sistema_medicion AS med  INNER JOIN dbo_v2.flu_tipo_fluido ON med.IdTipoFluido_fk = flu_tipo_fluido.Id  WHERE med.SubTipoFluido = 'DIF' AND flu_tipo_fluido.Nombre IS NOT NULL;\"),\n",
       "  ('question',\n",
       "   'The human is requesting a list of measurement systems that are capable of reading differential gas fluid type.')),\n",
       " (('answer',\n",
       "   'SELECT Nombre AS Measurement_System_Name, Tag AS Measurement_System_Tag FROM dbo_v2.med_sistema_medicion;'),\n",
       "  ('question', 'The human is asking for a list of measurement systems.')),\n",
       " (('answer',\n",
       "   'SELECT Nombre AS Measurement_System_Name, Tag AS Measurement_System_Tag FROM dbo_v2.med_sistema_medicion;'),\n",
       "  ('question', 'The human is asking for a list of measurement systems')),\n",
       " (('answer',\n",
       "   'SELECT Nombre AS Measurement_System_Name, Tag AS Measurement_System_Tag FROM dbo_v2.med_sistema_medicion WHERE Tag = <Specific Tag>;'),\n",
       "  ('question',\n",
       "   'The human is requesting information from a specific measurement system.')))"
      ]
     },
     "execution_count": 23,
     "metadata": {},
     "output_type": "execute_result"
    }
   ],
   "source": [
    "res"
   ]
  },
  {
   "cell_type": "code",
   "execution_count": 25,
   "metadata": {},
   "outputs": [],
   "source": [
    "from src.db.handlers.handlers import query_by_vector_embedding\n",
    "res = query_by_vector_embedding(sql_collection, vector)"
   ]
  },
  {
   "cell_type": "code",
   "execution_count": 26,
   "metadata": {},
   "outputs": [
    {
     "data": {
      "text/plain": [
       "((('answer',\n",
       "   'SELECT Nombre AS Measurement_System_Name, Tag AS Measurement_System_Tag FROM dbo_v2.med_sistema_medicion;'),\n",
       "  ('question', 'The human is asking for a list of measurement systems'),\n",
       "  ('distance', 0.8346868104616998)),\n",
       " (('answer',\n",
       "   'SELECT Nombre AS Measurement_System_Name, Tag AS Measurement_System_Tag FROM dbo_v2.med_sistema_medicion;'),\n",
       "  ('question', 'The human is asking for a list of measurement systems.'),\n",
       "  ('distance', 0.8346868104616998)),\n",
       " (('answer',\n",
       "   'SELECT Nombre AS Measurement_System_Name, Tag AS Measurement_System_Tag FROM dbo_v2.med_sistema_medicion WHERE Tag = <Specific Tag>;'),\n",
       "  ('question',\n",
       "   'The human is requesting information from a specific measurement system.'),\n",
       "  ('distance', 0.8193098250407786)))"
      ]
     },
     "execution_count": 26,
     "metadata": {},
     "output_type": "execute_result"
    }
   ],
   "source": [
    "res"
   ]
  }
 ],
 "metadata": {
  "kernelspec": {
   "display_name": "venv",
   "language": "python",
   "name": "python3"
  },
  "language_info": {
   "codemirror_mode": {
    "name": "ipython",
    "version": 3
   },
   "file_extension": ".py",
   "mimetype": "text/x-python",
   "name": "python",
   "nbconvert_exporter": "python",
   "pygments_lexer": "ipython3",
   "version": "3.11.5"
  }
 },
 "nbformat": 4,
 "nbformat_minor": 2
}
