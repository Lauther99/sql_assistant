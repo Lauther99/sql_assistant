{
 "cells": [
  {
   "cell_type": "code",
   "execution_count": 1,
   "metadata": {},
   "outputs": [
    {
     "name": "stdout",
     "output_type": "stream",
     "text": [
      "Iniciando modelos\n"
     ]
    }
   ],
   "source": [
    "import sys\n",
    "\n",
    "sys.path.append(\"C:\\\\Users\\\\lauth\\\\OneDrive\\\\Desktop\\\\sql_assistant_v3\")\n",
    "from src.document_indexing.indexing import DataIndexerAssistant\n",
    "tr_assistant = DataIndexerAssistant()"
   ]
  },
  {
   "cell_type": "code",
   "execution_count": 6,
   "metadata": {},
   "outputs": [
    {
     "name": "stdout",
     "output_type": "stream",
     "text": [
      "sql_examples_collection: 54 vectores\n",
      "classifier_collection: 17 vectores\n",
      "table_definitions_collection: 14 vectores\n",
      "relations_definitions_collection: 11 vectores\n",
      "columns_definitions_collection: 45 vectores\n",
      "terms_collection: 113 vectores\n",
      "terms_examples_collection: 54 vectores\n"
     ]
    }
   ],
   "source": [
    "tr_assistant.counting_vectors()"
   ]
  },
  {
   "cell_type": "code",
   "execution_count": 3,
   "metadata": {},
   "outputs": [
    {
     "name": "stdout",
     "output_type": "stream",
     "text": [
      "Selecciona una colección:\n",
      "1. sql_examples_collection\n",
      "2. classifier_collection\n",
      "3. table_definitions_collection\n",
      "4. relations_definitions_collection\n",
      "5. columns_definitions_collection\n",
      "6. terms_collection\n",
      "7. terms_examples_collection\n",
      "Eliminando la coleccion ...\n",
      "Eliminaste la coleccion:  terms_collection\n"
     ]
    }
   ],
   "source": [
    "tr_assistant.delete_specific_collection()\n"
   ]
  },
  {
   "cell_type": "code",
   "execution_count": 5,
   "metadata": {},
   "outputs": [
    {
     "name": "stdout",
     "output_type": "stream",
     "text": [
      "Selecciona una colección:\n",
      "1. sql_examples_collection\n",
      "2. classifier_collection\n",
      "3. table_definitions_collection\n",
      "4. relations_definitions_collection\n",
      "5. columns_definitions_collection\n",
      "6. terms_collection\n",
      "7. terms_examples_collection\n",
      "Colección terms entrenada!\n"
     ]
    }
   ],
   "source": [
    "tr_assistant.train_specific_collection()\n"
   ]
  }
 ],
 "metadata": {
  "kernelspec": {
   "display_name": "venv",
   "language": "python",
   "name": "python3"
  },
  "language_info": {
   "codemirror_mode": {
    "name": "ipython",
    "version": 3
   },
   "file_extension": ".py",
   "mimetype": "text/x-python",
   "name": "python",
   "nbconvert_exporter": "python",
   "pygments_lexer": "ipython3",
   "version": "3.11.5"
  }
 },
 "nbformat": 4,
 "nbformat_minor": 2
}
