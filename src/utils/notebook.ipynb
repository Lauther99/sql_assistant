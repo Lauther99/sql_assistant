{
 "cells": [
  {
   "cell_type": "code",
   "execution_count": 1,
   "metadata": {},
   "outputs": [],
   "source": [
    "import sys\n",
    "\n",
    "sys.path.append(\"C:\\\\Users\\\\lauth\\\\OneDrive\\\\Desktop\\\\sql_assistant_v3\")\n"
   ]
  },
  {
   "cell_type": "code",
   "execution_count": null,
   "metadata": {},
   "outputs": [],
   "source": [
    "import sqlglot\n",
    "sql = \"\"\"\n",
    "  SELECT ms.Nombre \n",
    "  FROM dbo_v2.med_sistema_medicion AS ms \n",
    "  JOIN dbo_v2.var_variable_datos AS vvd ON ms.Id = vvd.idSistemaMedicion_fk \n",
    "  JOIN dbo_v2.var_tipo_variable AS vtv ON vvd.idVariable_fk = vtv.Id WHERE vtv.Nombre \n",
    "  ILIKE 'Temperatura (°C)' \n",
    "  AND vvd.Fecha >= '2023-03-01' \n",
    "  AND vvd.Fecha < '2023-04-01' \n",
    "  AND vvd.Valor > 27\n",
    "\"\"\"\n",
    "code = sqlglot.transpile(sql, write=\"tsql\", identify=True, pretty=True)[0]\n",
    "print(code)"
   ]
  },
  {
   "cell_type": "code",
   "execution_count": 2,
   "metadata": {},
   "outputs": [
    {
     "data": {
      "text/plain": [
       "{'summary': 'The human greeted you with \"hola\" and the conversation ended.',\n",
       " 'request': 'There is no request from the human.'}"
      ]
     },
     "execution_count": 2,
     "metadata": {},
     "output_type": "execute_result"
    }
   ],
   "source": [
    "from src.utils.utils import txt_2_Json\n",
    "\n",
    "x = \"\"\"\n",
    "summary: The human greeted you with \"hola\" and the conversation ended. \n",
    "\n",
    "request: There is no request from the human.\n",
    "\"\"\"\n",
    "\n",
    "text = txt_2_Json(x)\n",
    "text"
   ]
  },
  {
   "cell_type": "code",
   "execution_count": 3,
   "metadata": {},
   "outputs": [
    {
     "data": {
      "text/plain": [
       "'human ask list flow computer'"
      ]
     },
     "execution_count": 3,
     "metadata": {},
     "output_type": "execute_result"
    }
   ],
   "source": [
    "from src.utils.utils import clean_sentence\n",
    "\n",
    "txt = \"The human is asks for a list of flow computers.\"\n",
    "txt = clean_sentence(txt)\n",
    "txt"
   ]
  },
  {
   "cell_type": "code",
   "execution_count": 4,
   "metadata": {},
   "outputs": [
    {
     "name": "stdout",
     "output_type": "stream",
     "text": [
      "human request list measur system tag 'emed' correspond fluid quantiti meter system\n"
     ]
    }
   ],
   "source": [
    "import nltk\n",
    "nltk.data.path.append(\"C:\\\\Users\\\\lauth\\\\OneDrive\\\\Desktop\\\\sql_assistant_v3\\\\src\\\\assets\\\\nltk_data\")\n",
    "from nltk.corpus import stopwords\n",
    "stemmer = nltk.PorterStemmer()\n",
    "\n",
    "def tokenize(text):\n",
    "    \"\"\"Transform a text string in tokens. Perform two main actions,\n",
    "    clean the punctuation symbols and do stemming of the text.\"\"\"\n",
    "    tokens = list(filter(None, text.split(\" \")))\n",
    "    # Stemming of the tokens\n",
    "    sw = set(stopwords.words(\"english\"))\n",
    "    res = [stemmer.stem(w) for w in tokens if w not in sw]\n",
    "    return \" \".join(res)\n",
    "\n",
    "a = tokenize(\"human requesting list measurement systems tag 'emed' corresponding fluid quantity meters system\")\n",
    "print(a)"
   ]
  },
  {
   "cell_type": "code",
   "execution_count": 5,
   "metadata": {},
   "outputs": [
    {
     "data": {
      "text/plain": [
       "['a', 'sd', 'sd', 'a', 's']"
      ]
     },
     "execution_count": 5,
     "metadata": {},
     "output_type": "execute_result"
    }
   ],
   "source": [
    "from src.utils.utils import string_2_array\n",
    "\n",
    "r = \"a,     sd,    sd,   a,    s\"\n",
    "r = string_2_array(r)\n",
    "r"
   ]
  },
  {
   "cell_type": "code",
   "execution_count": 2,
   "metadata": {},
   "outputs": [
    {
     "name": "stdout",
     "output_type": "stream",
     "text": [
      "C:\\Users\\lauth\\OneDrive\\Desktop\\sql_assistant_v3\\src\\db\\chroma_db\\asdd\n"
     ]
    }
   ],
   "source": [
    "from src.settings.settings import Experiments_Settings\n",
    "\n",
    "settings = Experiments_Settings()\n",
    "\n",
    "settings.chroma.get_experiments_with_llama_collection()\n"
   ]
  }
 ],
 "metadata": {
  "kernelspec": {
   "display_name": "venv",
   "language": "python",
   "name": "python3"
  },
  "language_info": {
   "codemirror_mode": {
    "name": "ipython",
    "version": 3
   },
   "file_extension": ".py",
   "mimetype": "text/x-python",
   "name": "python",
   "nbconvert_exporter": "python",
   "pygments_lexer": "ipython3",
   "version": "3.11.5"
  }
 },
 "nbformat": 4,
 "nbformat_minor": 2
}
